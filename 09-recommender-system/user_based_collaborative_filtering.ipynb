{
 "cells": [
  {
   "cell_type": "markdown",
   "metadata": {},
   "source": [
    "# Prepare data and module"
   ]
  },
  {
   "cell_type": "code",
   "execution_count": null,
   "metadata": {
    "id": "x2RmQpwmqLCh"
   },
   "outputs": [],
   "source": [
    "import pandas as pd\n",
    "import numpy as np\n",
    "import sklearn\n",
    "from collections import defaultdict"
   ]
  },
  {
   "cell_type": "code",
   "execution_count": null,
   "metadata": {
    "colab": {
     "base_uri": "https://localhost:8080/",
     "height": 419
    },
    "id": "-zWjcqunqQbv",
    "outputId": "aade454b-0dbf-4f21-9578-c2922c75ef38",
    "scrolled": true
   },
   "outputs": [],
   "source": [
    "ratings = pd.read_csv('./movie_data/u.data', sep='\\t', header=None, names=['userId','movieId','rating','timestamp'])\n",
    "ratings = ratings.drop('timestamp', axis=1)\n",
    "ratings"
   ]
  },
  {
   "cell_type": "code",
   "execution_count": null,
   "metadata": {
    "id": "XUc-T_A4w452"
   },
   "outputs": [],
   "source": [
    "from sklearn.model_selection import train_test_split\n",
    "train, test = train_test_split(ratings, test_size=0.2, random_state=1932)"
   ]
  },
  {
   "cell_type": "code",
   "execution_count": null,
   "metadata": {
    "id": "FuqXCDHzMy3-"
   },
   "outputs": [],
   "source": [
    "movieIds = np.unique(train['movieId'])\n",
    "userIds = np.unique(train['userId'])\n",
    "print(f'movie 총 개수: {len(movieIds)}, user 총 수: {len(userIds)}')"
   ]
  },
  {
   "cell_type": "code",
   "execution_count": null,
   "metadata": {},
   "outputs": [],
   "source": [
    "movieDict = defaultdict(dict) # [movieId][userId] = rating\n",
    "userDict = defaultdict(dict) # [userId][movieId] = rating\n",
    "userRatingMeanDict = defaultdict(dict) # [userId] = mean(rating)\n",
    "movieRatingMeanDict = defaultdict(dict) # [movieId] = mean(rating)\n",
    "coRatedMovieDict = defaultdict(dict) # [movieId1][movieId2] = [[movieId1r1, movieId1r2, ...], [movieId2r1, movieId2r2, ...]]\n",
    "for i in train.index:\n",
    "  userId = train._get_value(i, 'userId')\n",
    "  movieId = train._get_value(i, 'movieId')\n",
    "  rating = train._get_value(i, 'rating')\n",
    "  movieDict[movieId][userId] = rating\n",
    "  userDict[userId][movieId] = rating\n",
    "\n",
    "for key in userDict.keys():\n",
    "  userRatingMeanDict[key] = sum(userDict[key].values())/len(userDict[key].values())\n",
    "\n",
    "for key in movieDict.keys():\n",
    "  movieRatingMeanDict[key] = sum(movieDict[key].values())/len(movieDict[key].values())\n",
    "\n",
    "for item1 in movieDict.keys():\n",
    "  for item2 in movieDict.keys():\n",
    "    if item1 == item2:\n",
    "      continue\n",
    "    d1 = movieDict[item1]\n",
    "    d2 = movieDict[item2]\n",
    "    coRatedMovieDict[item1][item2] = [[x, d1[x], d2[x]] for x in d1 if x in d2]\n"
   ]
  },
  {
   "cell_type": "markdown",
   "metadata": {
    "id": "u8k668kGz2Mg"
   },
   "source": [
    "# cosine similarity"
   ]
  },
  {
   "cell_type": "code",
   "execution_count": null,
   "metadata": {},
   "outputs": [],
   "source": [
    "def get_correlation_similarity(coRatedRi, coRatedRj):\n",
    "  I = np.array(coRatedRi)\n",
    "  J = np.array(coRatedRj)\n",
    "  I_norm = np.sqrt(np.sum(np.square(I)))\n",
    "  J_norm = np.sqrt(np.sum(np.square(J)))\n",
    "  K = np.dot(I,J) / (I_norm * J_norm)\n",
    "  return 0 if np.isnan(K) else K"
   ]
  },
  {
   "cell_type": "code",
   "execution_count": null,
   "metadata": {},
   "outputs": [],
   "source": [
    "cosineSimilarityDict = defaultdict(dict)\n",
    "for item1 in movieDict.keys():\n",
    "  for item2 in movieDict.keys():\n",
    "    if item1 >= item2:\n",
    "      continue\n",
    "    numer = 0.\n",
    "    denom1 = 0.\n",
    "    denom2 = 0.\n",
    "    for [userId, rating1, rating2] in coRatedMovieDict[item1][item2]:\n",
    "      numer += rating1*rating2\n",
    "      denom1 += rating1**2\n",
    "      denom2 += rating2**2\n",
    "    if numer*denom1*denom2==0:\n",
    "      continue\n",
    "    cosineSimilarityDict[item1][item2] = numer / ((denom1**0.5) * (denom2**0.5))\n",
    "    cosineSimilarityDict[item2][item1] = cosineSimilarityDict[item1][item2]"
   ]
  },
  {
   "cell_type": "code",
   "execution_count": null,
   "metadata": {
    "scrolled": false
   },
   "outputs": [],
   "source": [
    "cosineSimilarityDict[1][2]"
   ]
  },
  {
   "cell_type": "markdown",
   "metadata": {
    "id": "pCh2Dqbyegxy"
   },
   "source": [
    "# correlation similarity"
   ]
  },
  {
   "cell_type": "code",
   "execution_count": null,
   "metadata": {},
   "outputs": [],
   "source": [
    "def get_correlation_similarity(coRatedRi, coRatedRj):\n",
    "  R_i = np.array(coRatedRi)\n",
    "  R_j = np.array(coRatedRj)\n",
    "  I = R_i-np.mean(R_i)\n",
    "  J = R_j-np.mean(R_j)\n",
    "  I_norm = np.sqrt(np.sum(np.square(I)))\n",
    "  J_norm = np.sqrt(np.sum(np.square(J)))\n",
    "  K = np.dot(I,J) / (I_norm * J_norm)\n",
    "  return 0 if np.isnan(K) else K"
   ]
  },
  {
   "cell_type": "code",
   "execution_count": null,
   "metadata": {},
   "outputs": [],
   "source": [
    "correlationSimilarityDict = defaultdict(dict)\n",
    "for item1 in movieDict.keys():\n",
    "  for item2 in movieDict.keys():\n",
    "    if item1 >= item2:\n",
    "      continue\n",
    "    numer = 0.\n",
    "    denom1 = 0.\n",
    "    denom2 = 0.\n",
    "    for [userId, rating1, rating2] in coRatedMovieDict[item1][item2]:\n",
    "      I = rating1-movieRatingMeanDict[item1]\n",
    "      J = rating2-movieRatingMeanDict[item2]\n",
    "      numer += I*J\n",
    "      denom1 += I**2\n",
    "      denom2 += J**2\n",
    "    if numer*denom1*denom2==0:\n",
    "      correlationSimilarityDict[item1][item2] = 0.\n",
    "    else:\n",
    "      correlationSimilarityDict[item1][item2] = numer / ((denom1**0.5) * (denom2**0.5))\n",
    "    correlationSimilarityDict[item2][item1] = correlationSimilarityDict[item1][item2]"
   ]
  },
  {
   "cell_type": "code",
   "execution_count": null,
   "metadata": {},
   "outputs": [],
   "source": [
    "correlationSimilarityDict[1][2]"
   ]
  },
  {
   "cell_type": "markdown",
   "metadata": {
    "id": "By1KAJoNelRs"
   },
   "source": [
    "# adjusted cosine similarity"
   ]
  },
  {
   "cell_type": "code",
   "execution_count": null,
   "metadata": {},
   "outputs": [],
   "source": [
    "def get_adjusted_cosine_similarity(coRatedRi, coRatedRj, RuMean):\n",
    "  R_i = np.array(coRatedRi)\n",
    "  R_j = np.array(coRatedRj)\n",
    "  I = R_i-RuMean\n",
    "  J = R_j-RuMean\n",
    "  I_norm = np.sqrt(np.sum(np.square(I)))\n",
    "  J_norm = np.sqrt(np.sum(np.square(J)))\n",
    "  K = np.dot(I,J) / (I_norm * J_norm)\n",
    "  return K"
   ]
  },
  {
   "cell_type": "code",
   "execution_count": null,
   "metadata": {},
   "outputs": [],
   "source": [
    "adjustedCosineSimilarityDict = defaultdict(dict)\n",
    "for item1 in movieDict.keys():\n",
    "  for item2 in movieDict.keys():\n",
    "    if item1 >= item2:\n",
    "      continue\n",
    "    numer = 0.\n",
    "    denom1 = 0.\n",
    "    denom2 = 0.\n",
    "    for [userId, rating1, rating2] in coRatedMovieDict[item1][item2]:\n",
    "      I = rating1-userRatingMeanDict[userId]\n",
    "      J = rating2-userRatingMeanDict[userId]\n",
    "      numer += I*J\n",
    "      denom1 += I**2\n",
    "      denom2 += J**2\n",
    "    if numer*denom1*denom2==0:\n",
    "      adjustedCosineSimilarityDict[item1][item2] = 0.\n",
    "    else:\n",
    "      adjustedCosineSimilarityDict[item1][item2] = numer / ((denom1**0.5) * (denom2**0.5))\n",
    "    adjustedCosineSimilarityDict[item2][item1] = adjustedCosineSimilarityDict[item1][item2]"
   ]
  },
  {
   "cell_type": "code",
   "execution_count": null,
   "metadata": {
    "scrolled": true
   },
   "outputs": [],
   "source": [
    "adjustedCosineSimilarityDict[1][2]"
   ]
  },
  {
   "cell_type": "markdown",
   "metadata": {
    "id": "8lc7IeRHerRP"
   },
   "source": [
    "# utils"
   ]
  },
  {
   "cell_type": "code",
   "execution_count": null,
   "metadata": {
    "scrolled": true
   },
   "outputs": [],
   "source": [
    "similarityDicts = [cosineSimilarityDict, correlationSimilarityDict, adjustedCosineSimilarityDict]"
   ]
  },
  {
   "cell_type": "code",
   "execution_count": null,
   "metadata": {
    "id": "DWkCJep_NIWD"
   },
   "outputs": [],
   "source": [
    "def get_k_neighbor_dict(similarityDict, K):\n",
    "  kSimilarityDict = defaultdict(dict)\n",
    "  for i in movieIds:\n",
    "    temp = sorted(similarityDict[i].items(), key=(lambda x:x[1]), reverse=True)\n",
    "    if K != 0:\n",
    "      temp = temp[:K]\n",
    "    dict_ = {}\n",
    "    for j in range(len(temp)):\n",
    "        dict_[temp[j][0]] = temp[j][1]\n",
    "    kSimilarityDict[i] = dict_\n",
    "  return kSimilarityDict"
   ]
  },
  {
   "cell_type": "code",
   "execution_count": null,
   "metadata": {},
   "outputs": [],
   "source": [
    "kSimilarityDicts = [get_k_neighbor_dict(similarityDict, 0) for similarityDict in similarityDicts]"
   ]
  },
  {
   "cell_type": "code",
   "execution_count": null,
   "metadata": {},
   "outputs": [],
   "source": [
    "# 각 item i의 가장 유사한 item N를 알아낸다\n",
    "# 둘의 coRatedMovieDict[i][N]을 구한다\n",
    "# regression을 돌려준다\n",
    "from sklearn.linear_model import LinearRegression\n",
    "\n",
    "regRatingDict = defaultdict(dict)\n",
    "for i in movieIds:\n",
    "  j=0\n",
    "  for ksd in kSimilarityDicts:\n",
    "    similarMovieId = list(ksd[i].keys())[0]\n",
    "    if not coRatedMovieDict[i][similarMovieId]:\n",
    "      continue\n",
    "    users, Ri, Rn = np.array(coRatedMovieDict[i][similarMovieId]).T\n",
    "    lineFitter = LinearRegression()\n",
    "    lineFitter.fit(Ri.reshape(-1, 1), Rn)\n",
    "    if userRatingMeanDict[i] == {}:\n",
    "      continue\n",
    "    regRatingDict[j][i] = lineFitter.predict([[userRatingMeanDict[i]]])\n",
    "    j+=1"
   ]
  },
  {
   "cell_type": "code",
   "execution_count": null,
   "metadata": {
    "id": "5MnTM8tvgdD4"
   },
   "outputs": [],
   "source": [
    "from sklearn.linear_model import LinearRegression\n",
    "\n",
    "def get_regression_rating(R_i, R_N):\n",
    "  X = np.concatenate((R_i['rating'].values, np.zeros(len(R_N['rating'].values))))\n",
    "  y = np.concatenate((R_N['rating'].values, np.zeros(len(R_i['rating'].values))))\n",
    "  line_fitter = LinearRegression()\n",
    "  line_fitter.fit(X.reshape(-1,1), y)\n",
    "  \n",
    "  return line_fitter.predict([[np.sum(X) / np.count_nonzero(X < 1)]])"
   ]
  },
  {
   "cell_type": "markdown",
   "metadata": {
    "id": "mZfpBVRAesiu"
   },
   "source": [
    "# prediction"
   ]
  },
  {
   "cell_type": "code",
   "execution_count": null,
   "metadata": {
    "id": "rzu2Ckinqfl3"
   },
   "outputs": [],
   "source": [
    "def pred(u, i, kSimilarityDict):\n",
    "  movieRatings = userDict[u] # [movieId] = rating\n",
    "  movieSimilarity = kSimilarityDict[i] # [movieId] = similarity\n",
    "\n",
    "  plus_mean = 0.\n",
    "  if u in userRatingMeanDict:\n",
    "    plus_mean = userRatingMeanDict[u]\n",
    "  else:\n",
    "    plus_mean = sum(userRatingMeanDict.items())/len(userRatingMeanDict.items())\n",
    "  ratedSimilarMovie = [[movieRatings[x], movieSimilarity[x]] for x in movieRatings if x in movieSimilarity]\n",
    "  \n",
    "  similarityMulRating = list(map(lambda x: (x[0]-plus_mean)*x[1], ratedSimilarMovie))\n",
    "  absoluteSimilarity = list(map(lambda x: abs(x[1]), ratedSimilarMovie))\n",
    "  \n",
    "  if sum(absoluteSimilarity)==0:\n",
    "    return plus_mean\n",
    "  p = sum(similarityMulRating)/sum(absoluteSimilarity)+plus_mean\n",
    "\n",
    "  return min(max(p, 1.), 5.)"
   ]
  },
  {
   "cell_type": "code",
   "execution_count": null,
   "metadata": {
    "id": "vHROv_W6Yxir"
   },
   "outputs": [],
   "source": [
    "pred(1, 1, kSimilarityDicts[1])"
   ]
  },
  {
   "cell_type": "code",
   "execution_count": null,
   "metadata": {
    "id": "LMtCrglCrLIJ"
   },
   "outputs": [],
   "source": [
    "def pred_reg(u, i, kSimilarityDict, regRatingDict):\n",
    "  movieRatings = userDict[u] # [movieId] = rating\n",
    "  movieSimilarity = kSimilarityDict[i] # [movieId] = similarity\n",
    "\n",
    "  plus_mean = 0.\n",
    "  if u in userRatingMeanDict:\n",
    "    plus_mean = userRatingMeanDict[u]\n",
    "  else:\n",
    "    plus_mean = sum(userRatingMeanDict.items())/len(userRatingMeanDict.items())\n",
    "  regRatings = []\n",
    "  ratedSimilarMovie = [[regRatingDict[x] if x in regRatingDict else movieRatings[x], movieSimilarity[x]] for x in movieRatings if x in movieSimilarity]\n",
    "  \n",
    "  similarityMulRating = list(map(lambda x: (x[0]-plus_mean)*x[1], ratedSimilarMovie))\n",
    "  absoluteSimilarity = list(map(lambda x: abs(x[1]), ratedSimilarMovie))\n",
    "  \n",
    "  if sum(absoluteSimilarity)==0:\n",
    "    return plus_mean\n",
    "  p = sum(similarityMulRating)/sum(absoluteSimilarity)+plus_mean\n",
    "\n",
    "  return min(max(p, 1.), 5.)"
   ]
  },
  {
   "cell_type": "code",
   "execution_count": null,
   "metadata": {
    "id": "z21HEuD4ZYu6"
   },
   "outputs": [],
   "source": [
    "pred_reg(1, 3, 10, 'adjusted_cosine')"
   ]
  },
  {
   "cell_type": "markdown",
   "metadata": {
    "id": "iZmDNV1WZeOF"
   },
   "source": [
    "# evaluation"
   ]
  },
  {
   "cell_type": "code",
   "execution_count": null,
   "metadata": {
    "colab": {
     "base_uri": "https://localhost:8080/"
    },
    "id": "Q1qGGyoyoBTb",
    "outputId": "269e21a0-dab1-40d5-9b05-982953532db9"
   },
   "outputs": [],
   "source": [
    "mae = []\n",
    "for i in test.index:\n",
    "  userId = test._get_value(i, 'userId')\n",
    "  movieId = test._get_value(i, 'movieId')\n",
    "  rating = test._get_value(i, 'rating')\n",
    "  row = []\n",
    "  for dic in kSimilarityDicts:\n",
    "    p = pred(userId, movieId, dic)\n",
    "    row.append(abs(p-rating))\n",
    "  mae.append(row)"
   ]
  },
  {
   "cell_type": "code",
   "execution_count": null,
   "metadata": {
    "id": "UrzNNPMq-UC7",
    "scrolled": true
   },
   "outputs": [],
   "source": [
    "mae_reg = []\n",
    "for i in test.index:\n",
    "  userId = test._get_value(i, 'userId')\n",
    "  movieId = test._get_value(i, 'movieId')\n",
    "  rating = test._get_value(i, 'rating')\n",
    "  row = []\n",
    "  j=0\n",
    "  for matrix in kSimilarityDicts:\n",
    "    p = pred_reg(userId, movieId, dic, regRatingDict[j])\n",
    "    row.append(abs(p-rating))\n",
    "    j+=1\n",
    "  mae_reg.append(row)"
   ]
  },
  {
   "cell_type": "code",
   "execution_count": null,
   "metadata": {},
   "outputs": [],
   "source": [
    "np.mean(mae_reg, axis=0)"
   ]
  },
  {
   "cell_type": "markdown",
   "metadata": {
    "id": "wwdJwNWv6HD0"
   },
   "source": [
    "# visualization"
   ]
  },
  {
   "cell_type": "code",
   "execution_count": null,
   "metadata": {},
   "outputs": [],
   "source": [
    "import matplotlib.pyplot as plt\n",
    "plt.figure(figsize=(5,5))\n",
    "plt.bar(['cosine','corr','adj_cosine'],np.mean(mae, axis=0),  width=0.3)\n",
    "plt.show()"
   ]
  },
  {
   "cell_type": "code",
   "execution_count": null,
   "metadata": {},
   "outputs": [],
   "source": [
    "import matplotlib.pyplot as plt\n",
    "plt.figure(figsize=(5,5))\n",
    "plt.bar(['cosine','corr','adj_cosine'], np.mean(mae_reg, axis=0),  width=0.3)\n",
    "plt.show()"
   ]
  },
  {
   "cell_type": "code",
   "execution_count": null,
   "metadata": {},
   "outputs": [],
   "source": []
  }
 ],
 "metadata": {
  "colab": {
   "name": "Untitled3.ipynb",
   "provenance": []
  },
  "kernelspec": {
   "display_name": "Python 3",
   "language": "python",
   "name": "python3"
  },
  "language_info": {
   "codemirror_mode": {
    "name": "ipython",
    "version": 3
   },
   "file_extension": ".py",
   "mimetype": "text/x-python",
   "name": "python",
   "nbconvert_exporter": "python",
   "pygments_lexer": "ipython3",
   "version": "3.7.6"
  }
 },
 "nbformat": 4,
 "nbformat_minor": 1
}

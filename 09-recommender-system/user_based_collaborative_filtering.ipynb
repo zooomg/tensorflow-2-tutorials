{
 "cells": [
  {
   "cell_type": "markdown",
   "metadata": {},
   "source": [
    "# Prepare data and modul"
   ]
  },
  {
   "cell_type": "code",
   "execution_count": 2,
   "metadata": {
    "id": "x2RmQpwmqLCh"
   },
   "outputs": [],
   "source": [
    "import pandas as pd\n",
    "import numpy as np\n",
    "import sklearn"
   ]
  },
  {
   "cell_type": "code",
   "execution_count": 3,
   "metadata": {
    "colab": {
     "base_uri": "https://localhost:8080/",
     "height": 419
    },
    "id": "-zWjcqunqQbv",
    "outputId": "aade454b-0dbf-4f21-9578-c2922c75ef38"
   },
   "outputs": [
    {
     "data": {
      "text/html": [
       "<div>\n",
       "<style scoped>\n",
       "    .dataframe tbody tr th:only-of-type {\n",
       "        vertical-align: middle;\n",
       "    }\n",
       "\n",
       "    .dataframe tbody tr th {\n",
       "        vertical-align: top;\n",
       "    }\n",
       "\n",
       "    .dataframe thead th {\n",
       "        text-align: right;\n",
       "    }\n",
       "</style>\n",
       "<table border=\"1\" class=\"dataframe\">\n",
       "  <thead>\n",
       "    <tr style=\"text-align: right;\">\n",
       "      <th></th>\n",
       "      <th>userId</th>\n",
       "      <th>movieId</th>\n",
       "      <th>rating</th>\n",
       "    </tr>\n",
       "  </thead>\n",
       "  <tbody>\n",
       "    <tr>\n",
       "      <th>0</th>\n",
       "      <td>1</td>\n",
       "      <td>31</td>\n",
       "      <td>2.5</td>\n",
       "    </tr>\n",
       "    <tr>\n",
       "      <th>1</th>\n",
       "      <td>1</td>\n",
       "      <td>1029</td>\n",
       "      <td>3.0</td>\n",
       "    </tr>\n",
       "    <tr>\n",
       "      <th>2</th>\n",
       "      <td>1</td>\n",
       "      <td>1061</td>\n",
       "      <td>3.0</td>\n",
       "    </tr>\n",
       "    <tr>\n",
       "      <th>3</th>\n",
       "      <td>1</td>\n",
       "      <td>1129</td>\n",
       "      <td>2.0</td>\n",
       "    </tr>\n",
       "    <tr>\n",
       "      <th>4</th>\n",
       "      <td>1</td>\n",
       "      <td>1172</td>\n",
       "      <td>4.0</td>\n",
       "    </tr>\n",
       "    <tr>\n",
       "      <th>...</th>\n",
       "      <td>...</td>\n",
       "      <td>...</td>\n",
       "      <td>...</td>\n",
       "    </tr>\n",
       "    <tr>\n",
       "      <th>99999</th>\n",
       "      <td>671</td>\n",
       "      <td>6268</td>\n",
       "      <td>2.5</td>\n",
       "    </tr>\n",
       "    <tr>\n",
       "      <th>100000</th>\n",
       "      <td>671</td>\n",
       "      <td>6269</td>\n",
       "      <td>4.0</td>\n",
       "    </tr>\n",
       "    <tr>\n",
       "      <th>100001</th>\n",
       "      <td>671</td>\n",
       "      <td>6365</td>\n",
       "      <td>4.0</td>\n",
       "    </tr>\n",
       "    <tr>\n",
       "      <th>100002</th>\n",
       "      <td>671</td>\n",
       "      <td>6385</td>\n",
       "      <td>2.5</td>\n",
       "    </tr>\n",
       "    <tr>\n",
       "      <th>100003</th>\n",
       "      <td>671</td>\n",
       "      <td>6565</td>\n",
       "      <td>3.5</td>\n",
       "    </tr>\n",
       "  </tbody>\n",
       "</table>\n",
       "<p>100004 rows × 3 columns</p>\n",
       "</div>"
      ],
      "text/plain": [
       "        userId  movieId  rating\n",
       "0            1       31     2.5\n",
       "1            1     1029     3.0\n",
       "2            1     1061     3.0\n",
       "3            1     1129     2.0\n",
       "4            1     1172     4.0\n",
       "...        ...      ...     ...\n",
       "99999      671     6268     2.5\n",
       "100000     671     6269     4.0\n",
       "100001     671     6365     4.0\n",
       "100002     671     6385     2.5\n",
       "100003     671     6565     3.5\n",
       "\n",
       "[100004 rows x 3 columns]"
      ]
     },
     "execution_count": 3,
     "metadata": {},
     "output_type": "execute_result"
    }
   ],
   "source": [
    "ratings = pd.read_csv('./movie_data/ratings_small.csv')\n",
    "ratings = ratings.drop('timestamp', axis=1)\n",
    "ratings"
   ]
  },
  {
   "cell_type": "code",
   "execution_count": 4,
   "metadata": {
    "id": "XUc-T_A4w452"
   },
   "outputs": [],
   "source": [
    "from sklearn.model_selection import train_test_split\n",
    "train, test = train_test_split(ratings, test_size=0.2, random_state=1932)"
   ]
  },
  {
   "cell_type": "code",
   "execution_count": 5,
   "metadata": {
    "id": "FuqXCDHzMy3-"
   },
   "outputs": [],
   "source": [
    "movieIds = np.unique(train['movieId'])\n",
    "userIds = np.unique(train['userId'])\n",
    "ratings = np.unique(train['rating'])"
   ]
  },
  {
   "cell_type": "code",
   "execution_count": 6,
   "metadata": {
    "colab": {
     "base_uri": "https://localhost:8080/",
     "height": 501
    },
    "id": "jX_KZWkMzOos",
    "outputId": "dd3894de-a615-4885-e3b6-4e891aff6548"
   },
   "outputs": [
    {
     "data": {
      "text/html": [
       "<div>\n",
       "<style scoped>\n",
       "    .dataframe tbody tr th:only-of-type {\n",
       "        vertical-align: middle;\n",
       "    }\n",
       "\n",
       "    .dataframe tbody tr th {\n",
       "        vertical-align: top;\n",
       "    }\n",
       "\n",
       "    .dataframe thead tr th {\n",
       "        text-align: left;\n",
       "    }\n",
       "\n",
       "    .dataframe thead tr:last-of-type th {\n",
       "        text-align: right;\n",
       "    }\n",
       "</style>\n",
       "<table border=\"1\" class=\"dataframe\">\n",
       "  <thead>\n",
       "    <tr>\n",
       "      <th></th>\n",
       "      <th colspan=\"21\" halign=\"left\">rating</th>\n",
       "    </tr>\n",
       "    <tr>\n",
       "      <th>userId</th>\n",
       "      <th>1</th>\n",
       "      <th>2</th>\n",
       "      <th>3</th>\n",
       "      <th>4</th>\n",
       "      <th>5</th>\n",
       "      <th>6</th>\n",
       "      <th>7</th>\n",
       "      <th>8</th>\n",
       "      <th>9</th>\n",
       "      <th>10</th>\n",
       "      <th>...</th>\n",
       "      <th>662</th>\n",
       "      <th>663</th>\n",
       "      <th>664</th>\n",
       "      <th>665</th>\n",
       "      <th>666</th>\n",
       "      <th>667</th>\n",
       "      <th>668</th>\n",
       "      <th>669</th>\n",
       "      <th>670</th>\n",
       "      <th>671</th>\n",
       "    </tr>\n",
       "    <tr>\n",
       "      <th>movieId</th>\n",
       "      <th></th>\n",
       "      <th></th>\n",
       "      <th></th>\n",
       "      <th></th>\n",
       "      <th></th>\n",
       "      <th></th>\n",
       "      <th></th>\n",
       "      <th></th>\n",
       "      <th></th>\n",
       "      <th></th>\n",
       "      <th></th>\n",
       "      <th></th>\n",
       "      <th></th>\n",
       "      <th></th>\n",
       "      <th></th>\n",
       "      <th></th>\n",
       "      <th></th>\n",
       "      <th></th>\n",
       "      <th></th>\n",
       "      <th></th>\n",
       "      <th></th>\n",
       "    </tr>\n",
       "  </thead>\n",
       "  <tbody>\n",
       "    <tr>\n",
       "      <th>1</th>\n",
       "      <td>0.0</td>\n",
       "      <td>0</td>\n",
       "      <td>0.0</td>\n",
       "      <td>0</td>\n",
       "      <td>0.0</td>\n",
       "      <td>0.0</td>\n",
       "      <td>3</td>\n",
       "      <td>0.0</td>\n",
       "      <td>4</td>\n",
       "      <td>0</td>\n",
       "      <td>...</td>\n",
       "      <td>0</td>\n",
       "      <td>0.0</td>\n",
       "      <td>0.0</td>\n",
       "      <td>0</td>\n",
       "      <td>0</td>\n",
       "      <td>0</td>\n",
       "      <td>0</td>\n",
       "      <td>0</td>\n",
       "      <td>4</td>\n",
       "      <td>5.0</td>\n",
       "    </tr>\n",
       "    <tr>\n",
       "      <th>2</th>\n",
       "      <td>0.0</td>\n",
       "      <td>0</td>\n",
       "      <td>0.0</td>\n",
       "      <td>0</td>\n",
       "      <td>0.0</td>\n",
       "      <td>0.0</td>\n",
       "      <td>0</td>\n",
       "      <td>0.0</td>\n",
       "      <td>0</td>\n",
       "      <td>0</td>\n",
       "      <td>...</td>\n",
       "      <td>0</td>\n",
       "      <td>0.0</td>\n",
       "      <td>0.0</td>\n",
       "      <td>3</td>\n",
       "      <td>0</td>\n",
       "      <td>0</td>\n",
       "      <td>0</td>\n",
       "      <td>0</td>\n",
       "      <td>0</td>\n",
       "      <td>0.0</td>\n",
       "    </tr>\n",
       "    <tr>\n",
       "      <th>3</th>\n",
       "      <td>0.0</td>\n",
       "      <td>0</td>\n",
       "      <td>0.0</td>\n",
       "      <td>0</td>\n",
       "      <td>0.0</td>\n",
       "      <td>0.0</td>\n",
       "      <td>0</td>\n",
       "      <td>0.0</td>\n",
       "      <td>0</td>\n",
       "      <td>0</td>\n",
       "      <td>...</td>\n",
       "      <td>0</td>\n",
       "      <td>0.0</td>\n",
       "      <td>0.0</td>\n",
       "      <td>3</td>\n",
       "      <td>0</td>\n",
       "      <td>0</td>\n",
       "      <td>0</td>\n",
       "      <td>0</td>\n",
       "      <td>0</td>\n",
       "      <td>0.0</td>\n",
       "    </tr>\n",
       "    <tr>\n",
       "      <th>4</th>\n",
       "      <td>0.0</td>\n",
       "      <td>0</td>\n",
       "      <td>0.0</td>\n",
       "      <td>0</td>\n",
       "      <td>0.0</td>\n",
       "      <td>0.0</td>\n",
       "      <td>0</td>\n",
       "      <td>0.0</td>\n",
       "      <td>0</td>\n",
       "      <td>0</td>\n",
       "      <td>...</td>\n",
       "      <td>0</td>\n",
       "      <td>0.0</td>\n",
       "      <td>0.0</td>\n",
       "      <td>0</td>\n",
       "      <td>0</td>\n",
       "      <td>0</td>\n",
       "      <td>0</td>\n",
       "      <td>0</td>\n",
       "      <td>0</td>\n",
       "      <td>0.0</td>\n",
       "    </tr>\n",
       "    <tr>\n",
       "      <th>5</th>\n",
       "      <td>0.0</td>\n",
       "      <td>0</td>\n",
       "      <td>0.0</td>\n",
       "      <td>0</td>\n",
       "      <td>0.0</td>\n",
       "      <td>0.0</td>\n",
       "      <td>0</td>\n",
       "      <td>0.0</td>\n",
       "      <td>0</td>\n",
       "      <td>0</td>\n",
       "      <td>...</td>\n",
       "      <td>0</td>\n",
       "      <td>0.0</td>\n",
       "      <td>0.0</td>\n",
       "      <td>3</td>\n",
       "      <td>0</td>\n",
       "      <td>0</td>\n",
       "      <td>0</td>\n",
       "      <td>0</td>\n",
       "      <td>0</td>\n",
       "      <td>0.0</td>\n",
       "    </tr>\n",
       "    <tr>\n",
       "      <th>...</th>\n",
       "      <td>...</td>\n",
       "      <td>...</td>\n",
       "      <td>...</td>\n",
       "      <td>...</td>\n",
       "      <td>...</td>\n",
       "      <td>...</td>\n",
       "      <td>...</td>\n",
       "      <td>...</td>\n",
       "      <td>...</td>\n",
       "      <td>...</td>\n",
       "      <td>...</td>\n",
       "      <td>...</td>\n",
       "      <td>...</td>\n",
       "      <td>...</td>\n",
       "      <td>...</td>\n",
       "      <td>...</td>\n",
       "      <td>...</td>\n",
       "      <td>...</td>\n",
       "      <td>...</td>\n",
       "      <td>...</td>\n",
       "      <td>...</td>\n",
       "    </tr>\n",
       "    <tr>\n",
       "      <th>161918</th>\n",
       "      <td>0.0</td>\n",
       "      <td>0</td>\n",
       "      <td>0.0</td>\n",
       "      <td>0</td>\n",
       "      <td>0.0</td>\n",
       "      <td>0.0</td>\n",
       "      <td>0</td>\n",
       "      <td>0.0</td>\n",
       "      <td>0</td>\n",
       "      <td>0</td>\n",
       "      <td>...</td>\n",
       "      <td>0</td>\n",
       "      <td>0.0</td>\n",
       "      <td>0.0</td>\n",
       "      <td>0</td>\n",
       "      <td>0</td>\n",
       "      <td>0</td>\n",
       "      <td>0</td>\n",
       "      <td>0</td>\n",
       "      <td>0</td>\n",
       "      <td>0.0</td>\n",
       "    </tr>\n",
       "    <tr>\n",
       "      <th>161944</th>\n",
       "      <td>0.0</td>\n",
       "      <td>0</td>\n",
       "      <td>0.0</td>\n",
       "      <td>0</td>\n",
       "      <td>0.0</td>\n",
       "      <td>0.0</td>\n",
       "      <td>0</td>\n",
       "      <td>0.0</td>\n",
       "      <td>0</td>\n",
       "      <td>0</td>\n",
       "      <td>...</td>\n",
       "      <td>0</td>\n",
       "      <td>0.0</td>\n",
       "      <td>0.0</td>\n",
       "      <td>0</td>\n",
       "      <td>0</td>\n",
       "      <td>0</td>\n",
       "      <td>0</td>\n",
       "      <td>0</td>\n",
       "      <td>0</td>\n",
       "      <td>0.0</td>\n",
       "    </tr>\n",
       "    <tr>\n",
       "      <th>162542</th>\n",
       "      <td>0.0</td>\n",
       "      <td>0</td>\n",
       "      <td>0.0</td>\n",
       "      <td>0</td>\n",
       "      <td>0.0</td>\n",
       "      <td>0.0</td>\n",
       "      <td>0</td>\n",
       "      <td>0.0</td>\n",
       "      <td>0</td>\n",
       "      <td>0</td>\n",
       "      <td>...</td>\n",
       "      <td>0</td>\n",
       "      <td>0.0</td>\n",
       "      <td>0.0</td>\n",
       "      <td>0</td>\n",
       "      <td>0</td>\n",
       "      <td>0</td>\n",
       "      <td>0</td>\n",
       "      <td>0</td>\n",
       "      <td>0</td>\n",
       "      <td>0.0</td>\n",
       "    </tr>\n",
       "    <tr>\n",
       "      <th>162672</th>\n",
       "      <td>0.0</td>\n",
       "      <td>0</td>\n",
       "      <td>0.0</td>\n",
       "      <td>0</td>\n",
       "      <td>0.0</td>\n",
       "      <td>0.0</td>\n",
       "      <td>0</td>\n",
       "      <td>0.0</td>\n",
       "      <td>0</td>\n",
       "      <td>0</td>\n",
       "      <td>...</td>\n",
       "      <td>0</td>\n",
       "      <td>0.0</td>\n",
       "      <td>0.0</td>\n",
       "      <td>0</td>\n",
       "      <td>0</td>\n",
       "      <td>0</td>\n",
       "      <td>0</td>\n",
       "      <td>0</td>\n",
       "      <td>0</td>\n",
       "      <td>0.0</td>\n",
       "    </tr>\n",
       "    <tr>\n",
       "      <th>163949</th>\n",
       "      <td>0.0</td>\n",
       "      <td>0</td>\n",
       "      <td>0.0</td>\n",
       "      <td>0</td>\n",
       "      <td>0.0</td>\n",
       "      <td>0.0</td>\n",
       "      <td>0</td>\n",
       "      <td>0.0</td>\n",
       "      <td>0</td>\n",
       "      <td>0</td>\n",
       "      <td>...</td>\n",
       "      <td>0</td>\n",
       "      <td>0.0</td>\n",
       "      <td>0.0</td>\n",
       "      <td>0</td>\n",
       "      <td>0</td>\n",
       "      <td>0</td>\n",
       "      <td>0</td>\n",
       "      <td>0</td>\n",
       "      <td>0</td>\n",
       "      <td>0.0</td>\n",
       "    </tr>\n",
       "  </tbody>\n",
       "</table>\n",
       "<p>8417 rows × 671 columns</p>\n",
       "</div>"
      ],
      "text/plain": [
       "        rating                                          ...                    \\\n",
       "userId     1   2    3   4    5    6   7    8   9   10   ... 662  663  664 665   \n",
       "movieId                                                 ...                     \n",
       "1          0.0   0  0.0   0  0.0  0.0   3  0.0   4   0  ...   0  0.0  0.0   0   \n",
       "2          0.0   0  0.0   0  0.0  0.0   0  0.0   0   0  ...   0  0.0  0.0   3   \n",
       "3          0.0   0  0.0   0  0.0  0.0   0  0.0   0   0  ...   0  0.0  0.0   3   \n",
       "4          0.0   0  0.0   0  0.0  0.0   0  0.0   0   0  ...   0  0.0  0.0   0   \n",
       "5          0.0   0  0.0   0  0.0  0.0   0  0.0   0   0  ...   0  0.0  0.0   3   \n",
       "...        ...  ..  ...  ..  ...  ...  ..  ...  ..  ..  ...  ..  ...  ...  ..   \n",
       "161918     0.0   0  0.0   0  0.0  0.0   0  0.0   0   0  ...   0  0.0  0.0   0   \n",
       "161944     0.0   0  0.0   0  0.0  0.0   0  0.0   0   0  ...   0  0.0  0.0   0   \n",
       "162542     0.0   0  0.0   0  0.0  0.0   0  0.0   0   0  ...   0  0.0  0.0   0   \n",
       "162672     0.0   0  0.0   0  0.0  0.0   0  0.0   0   0  ...   0  0.0  0.0   0   \n",
       "163949     0.0   0  0.0   0  0.0  0.0   0  0.0   0   0  ...   0  0.0  0.0   0   \n",
       "\n",
       "                                  \n",
       "userId  666 667 668 669 670  671  \n",
       "movieId                           \n",
       "1         0   0   0   0   4  5.0  \n",
       "2         0   0   0   0   0  0.0  \n",
       "3         0   0   0   0   0  0.0  \n",
       "4         0   0   0   0   0  0.0  \n",
       "5         0   0   0   0   0  0.0  \n",
       "...      ..  ..  ..  ..  ..  ...  \n",
       "161918    0   0   0   0   0  0.0  \n",
       "161944    0   0   0   0   0  0.0  \n",
       "162542    0   0   0   0   0  0.0  \n",
       "162672    0   0   0   0   0  0.0  \n",
       "163949    0   0   0   0   0  0.0  \n",
       "\n",
       "[8417 rows x 671 columns]"
      ]
     },
     "execution_count": 6,
     "metadata": {},
     "output_type": "execute_result"
    }
   ],
   "source": [
    "dfMovieUserTable = pd.pivot_table(train, columns='userId', index='movieId', fill_value=0.)\n",
    "dfMovieUserTable"
   ]
  },
  {
   "cell_type": "markdown",
   "metadata": {
    "id": "u8k668kGz2Mg"
   },
   "source": [
    "# cosine similarity"
   ]
  },
  {
   "cell_type": "code",
   "execution_count": null,
   "metadata": {
    "id": "MqyypQla0FNs"
   },
   "outputs": [],
   "source": [
    "def my_cosine_similarity(dataframe):\n",
    "  \"\"\"\n",
    "  def cosine_similarity(X, Y=None, dense_output=True):\n",
    "    X, Y = check_pairwise_arrays(X, Y)\n",
    "\n",
    "    X_normalized = normalize(X, copy=True)\n",
    "    if X is Y:\n",
    "        Y_normalized = X_normalized\n",
    "    else:\n",
    "        Y_normalized = normalize(Y, copy=True)\n",
    "\n",
    "    K = safe_sparse_dot(X_normalized, Y_normalized.T,\n",
    "                        dense_output=dense_output)\n",
    "\n",
    "    return K\n",
    "  \"\"\"\n",
    "  I = normalize(dataframe, copy=True)\n",
    "  norm = np.sqrt(np.sum(np.square(I), axis=1))\n",
    "  return np.dot(I, I.T) / (norm * norm.T)"
   ]
  },
  {
   "cell_type": "code",
   "execution_count": null,
   "metadata": {
    "id": "YnqfN2GmJ6PJ"
   },
   "outputs": [],
   "source": [
    "def cosine_similarity_vector(R_i, R_j):\n",
    "  outer_join = pd.merge(R_i, R_j, how='outer', on='userId')\n",
    "  I = normalize(outer_join['rating_x'].fillna(0))\n",
    "  J = normalize(outer_join['rating_y'].fillna(0))\n",
    "  I_norm = np.sqrt(np.sum(np.square(I)))\n",
    "  J_norm = np.sqrt(np.sum(np.square(J)))\n",
    "  return np.dot(I,J) / (I_norm * J_norm)"
   ]
  },
  {
   "cell_type": "code",
   "execution_count": null,
   "metadata": {
    "colab": {
     "base_uri": "https://localhost:8080/"
    },
    "id": "KrYxsI_BpvUd",
    "outputId": "8a8da584-cb47-4da6-8a8e-f252f84734ea"
   },
   "outputs": [
    {
     "data": {
      "text/plain": [
       "array([[1.        , 0.32944422, 0.27160746, ..., 0.        , 0.        ,\n",
       "        0.06392494],\n",
       "       [0.32944422, 1.        , 0.18739697, ..., 0.        , 0.        ,\n",
       "        0.        ],\n",
       "       [0.27160746, 0.18739697, 1.        , ..., 0.        , 0.        ,\n",
       "        0.        ],\n",
       "       ...,\n",
       "       [0.        , 0.        , 0.        , ..., 1.        , 1.        ,\n",
       "        0.        ],\n",
       "       [0.        , 0.        , 0.        , ..., 1.        , 1.        ,\n",
       "        0.        ],\n",
       "       [0.06392494, 0.        , 0.        , ..., 0.        , 0.        ,\n",
       "        1.        ]])"
      ]
     },
     "execution_count": 14,
     "metadata": {
      "tags": []
     },
     "output_type": "execute_result"
    }
   ],
   "source": [
    "from sklearn.metrics.pairwise import cosine_similarity\n",
    "cosineSimilarityMatrix = cosine_similarity(dfMovieUserTable)\n",
    "cosineSimilarityMatrix"
   ]
  },
  {
   "cell_type": "code",
   "execution_count": null,
   "metadata": {
    "id": "Ns--NzAOrI1r"
   },
   "outputs": [],
   "source": [
    "cosineSimilarityMatrix = my_cosine_similarity(dfMovieUserTable)\n",
    "cosineSimilarityMatrix\n"
   ]
  },
  {
   "cell_type": "code",
   "execution_count": null,
   "metadata": {
    "id": "C7IY8WG9zdBE"
   },
   "outputs": [],
   "source": [
    "cosineSimilarityMatrix = pd.DataFrame(data=cosineSimilarityMatrix, index=dfMovieUserTable.index, columns=dfMovieUserTable.index)\n",
    "cosineSimilarityMatrix"
   ]
  },
  {
   "cell_type": "markdown",
   "metadata": {
    "id": "pCh2Dqbyegxy"
   },
   "source": [
    "# correlation similarity"
   ]
  },
  {
   "cell_type": "code",
   "execution_count": null,
   "metadata": {
    "id": "P0ODleY7B_mH"
   },
   "outputs": [],
   "source": [
    "def corr_similarity(X):\n",
    "  X = X.values\n",
    "  mask = (X!=0.).astype(float)\n",
    "  \n",
    "  X_mean = np.sum(X, axis=1) / np.count_nonzero(X, axis=1)\n",
    "\n",
    "  I = X-np.expand_dims(X_mean, axis=1)\n",
    "  I = I*mask\n",
    "\n",
    "  norm = np.sqrt(np.sum(np.square(I), axis=1))\n",
    "  K = np.dot(I, I.T) / (norm * norm.T)\n",
    "  K[np.isnan(K)] = 0\n",
    "  return K"
   ]
  },
  {
   "cell_type": "code",
   "execution_count": 30,
   "metadata": {
    "id": "gJYoZwcPGMyK"
   },
   "outputs": [],
   "source": [
    "from sklearn.metrics.pairwise import cosine_similarity\n",
    "\n",
    "def corr_similarity_vector(R_i, R_j):\n",
    "  inner_join = pd.merge(R_i, R_j, how='inner', on='userId')\n",
    "  R_i = inner_join['rating_x']\n",
    "  R_j = inner_join['rating_y']\n",
    "  I = R_i-np.mean(R_i)\n",
    "  J = R_j-np.mean(R_j)\n",
    "  I_norm = np.sqrt(np.sum(np.square(I)))\n",
    "  J_norm = np.sqrt(np.sum(np.square(J)))\n",
    "  K = np.dot(I,J) / (I_norm * J_norm)\n",
    "  return K\n"
   ]
  },
  {
   "cell_type": "code",
   "execution_count": null,
   "metadata": {
    "colab": {
     "base_uri": "https://localhost:8080/"
    },
    "id": "HYBrtS1agmAI",
    "outputId": "31f46e31-4742-414e-ca51-f746a412b0c6"
   },
   "outputs": [
    {
     "data": {
      "text/plain": [
       "0.4682789155833623"
      ]
     },
     "execution_count": 45,
     "metadata": {
      "tags": []
     },
     "output_type": "execute_result"
    }
   ],
   "source": [
    "corr_similarity_vector(get_rating(movieId=1), get_rating(movieId=2))"
   ]
  },
  {
   "cell_type": "code",
   "execution_count": null,
   "metadata": {
    "id": "4345Fo0iutz_"
   },
   "outputs": [],
   "source": [
    "corrSimilarityMatrix = corr_similarity(dfMovieUserTable)\n",
    "corrSimilarityMatrix"
   ]
  },
  {
   "cell_type": "code",
   "execution_count": null,
   "metadata": {
    "id": "rAH_0smd_o05"
   },
   "outputs": [],
   "source": [
    "corrSimilarityMatrix = pd.DataFrame(data=corrSimilarityMatrix, index=dfMovieUserTable.index, columns=dfMovieUserTable.index)\n",
    "corrSimilarityMatrix"
   ]
  },
  {
   "cell_type": "markdown",
   "metadata": {
    "id": "By1KAJoNelRs"
   },
   "source": [
    "# adjusted cosine similarity"
   ]
  },
  {
   "cell_type": "code",
   "execution_count": null,
   "metadata": {
    "id": "1itsHy1vCDmb"
   },
   "outputs": [],
   "source": [
    "def adjcos_similarity(X, R_u):\n",
    "  X = X.values\n",
    "  mask = (X!=0).astype(float)\n",
    "  R_u_mean = np.sum(R_u, axis=0) / np.count_nonzero(R_u, axis=0)\n",
    "\n",
    "  I = X-R_u_mean\n",
    "  I = I*mask\n",
    "  # isolate 구현이 이상했음\n",
    "  # 분자는 어차피 0을 곱해주고 더해서 상호 평가되지않은 값들은 버려져서 괜찮은데\n",
    "  # 분모에서 어떤 값을 버려야되는지 모름, 그래서 상호평가되지않은 값들도 norm 구하는데 추가되어서 계산이 이상해짐\n",
    "  norm = np.sqrt(np.sum(np.square(I), axis=1))\n",
    "  K = np.dot(I, I.T) / (norm * norm.T)\n",
    "  K[np.isnan(K)] = 0\n",
    "  return K"
   ]
  },
  {
   "cell_type": "code",
   "execution_count": 43,
   "metadata": {
    "id": "g1tCLa64fEoU"
   },
   "outputs": [],
   "source": [
    "def get_user_means(dataframe):\n",
    "  return np.sum(dataframe, axis=0)/np.count_nonzero(dataframe, axis=0)"
   ]
  },
  {
   "cell_type": "code",
   "execution_count": 44,
   "metadata": {
    "colab": {
     "base_uri": "https://localhost:8080/"
    },
    "id": "owBc90Xzf7Al",
    "outputId": "f55274d7-a489-4487-b46a-0d8cc2179c18"
   },
   "outputs": [
    {
     "name": "stdout",
     "output_type": "stream",
     "text": [
      "        userId\n",
      "rating  1         2.500000\n",
      "        2         3.461538\n",
      "        3         3.606061\n",
      "        4         4.358974\n",
      "        5         3.929487\n",
      "                    ...   \n",
      "        667       3.693878\n",
      "        668       3.800000\n",
      "        669       3.300000\n",
      "        670       3.680000\n",
      "        671       3.886598\n",
      "Length: 671, dtype: float64\n"
     ]
    }
   ],
   "source": [
    "print(get_user_means(dfMovieUserTable))"
   ]
  },
  {
   "cell_type": "code",
   "execution_count": 13,
   "metadata": {
    "id": "MBQw5hSuJpi4"
   },
   "outputs": [],
   "source": [
    "from sklearn.metrics.pairwise import cosine_similarity\n",
    "\n",
    "def adjcos_similarity_vector(R_i, R_j, R_u_mean):\n",
    "  inner_join = pd.merge(R_i, R_j, how='inner', on='userId')\n",
    "  R_i = inner_join['rating_x']\n",
    "  R_j = inner_join['rating_y']\n",
    "  I = R_i-np.mean(R_u)\n",
    "  J = R_j-np.mean(R_u)\n",
    "  I_norm = np.sqrt(np.sum(np.square(I)))\n",
    "  J_norm = np.sqrt(np.sum(np.square(J)))\n",
    "  K = np.dot(I,J) / (I_norm * J_norm)\n",
    "  return K"
   ]
  },
  {
   "cell_type": "code",
   "execution_count": null,
   "metadata": {
    "id": "JYubDOUydrWK"
   },
   "outputs": [],
   "source": [
    "adjcosSimilarityMatrix = adjcos_similarity(dfMovieUserTable, get_rating(userId=1)['rating'])\n",
    "adjcosSimilarityMatrix"
   ]
  },
  {
   "cell_type": "code",
   "execution_count": null,
   "metadata": {
    "id": "Ub0OCnvVdybg"
   },
   "outputs": [],
   "source": [
    "adjcosSimilarityMatrix = pd.DataFrame(data=adjcosSimilarityMatrix, index=dfMovieUserTable.index, columns=dfMovieUserTable.index)\n",
    "adjcosSimilarityMatrix"
   ]
  },
  {
   "cell_type": "markdown",
   "metadata": {
    "id": "8lc7IeRHerRP"
   },
   "source": [
    "# utils"
   ]
  },
  {
   "cell_type": "code",
   "execution_count": null,
   "metadata": {
    "id": "AARKQhioq40r"
   },
   "outputs": [],
   "source": [
    "def get_neighbor_items(targetItem, neighborNum, similarityMatrix):\n",
    "  # targetItem이 없으면 어떻게하지?\n",
    "  if not targetItem in similarityMatrix.index:\n",
    "    return pd.DataFrame({'movieId':np.array([]), 'similarity':np.array([])})\n",
    "    \n",
    "  data = similarityMatrix[targetItem].sort_values(ascending=False)\n",
    "  if neighborNum==0:\n",
    "    data = data[1:]\n",
    "  else:\n",
    "    data = data[1:neighborNum+1]\n",
    "  return pd.DataFrame({'movieId':data.index, 'similarity':data.values})"
   ]
  },
  {
   "cell_type": "code",
   "execution_count": null,
   "metadata": {
    "id": "DWkCJep_NIWD"
   },
   "outputs": [],
   "source": [
    "def get_k_neighbor_items(targetItem, K, similarityFunction):\n",
    "  list(map(lambda id: {'movieId': id, 'similarity': similarityFunction(targetItem, id)}, movieIds))"
   ]
  },
  {
   "cell_type": "code",
   "execution_count": null,
   "metadata": {
    "colab": {
     "base_uri": "https://localhost:8080/"
    },
    "id": "HOxzp6ehSsM2",
    "outputId": "f80e285f-0078-443e-d7b8-e2acb84cff84"
   },
   "outputs": [
    {
     "data": {
      "text/plain": [
       "8417"
      ]
     },
     "execution_count": 40,
     "metadata": {
      "tags": []
     },
     "output_type": "execute_result"
    }
   ],
   "source": [
    "len(np.unique(movieIds))"
   ]
  },
  {
   "cell_type": "code",
   "execution_count": null,
   "metadata": {
    "colab": {
     "base_uri": "https://localhost:8080/"
    },
    "id": "M_B4iTeFS7tt",
    "outputId": "cc0ac6d3-9f12-4aba-b078-bd916a6807e4"
   },
   "outputs": [
    {
     "data": {
      "text/plain": [
       "80003"
      ]
     },
     "execution_count": 41,
     "metadata": {
      "tags": []
     },
     "output_type": "execute_result"
    }
   ],
   "source": [
    "len(movieIds)"
   ]
  },
  {
   "cell_type": "code",
   "execution_count": null,
   "metadata": {
    "id": "VzROZhsdVvv4"
   },
   "outputs": [],
   "source": [
    "from sklearn.metrics.pairwise import cosine_similarity\n",
    "\n",
    "a = [3, 4, 0]\n",
    "b = [2, 0, 5]\n",
    "cosine_similarity(a, b)"
   ]
  },
  {
   "cell_type": "code",
   "execution_count": 9,
   "metadata": {},
   "outputs": [
    {
     "name": "stdout",
     "output_type": "stream",
     "text": [
      "Collecting pyspark\n",
      "  Downloading pyspark-3.1.1.tar.gz (212.3 MB)\n",
      "\u001b[K     |████████████████████████████████| 212.3 MB 31.0 MB/s eta 0:00:01\n",
      "\u001b[?25hCollecting py4j==0.10.9\n",
      "  Downloading py4j-0.10.9-py2.py3-none-any.whl (198 kB)\n",
      "\u001b[K     |████████████████████████████████| 198 kB 16.7 MB/s eta 0:00:01\n",
      "\u001b[?25hBuilding wheels for collected packages: pyspark\n",
      "  Building wheel for pyspark (setup.py) ... \u001b[?25ldone\n",
      "\u001b[?25h  Created wheel for pyspark: filename=pyspark-3.1.1-py2.py3-none-any.whl size=212767604 sha256=b04a42095bb6e849f13c7f29c02f712d79f9e3654e1888317e49387e5fdbaac1\n",
      "  Stored in directory: /Users/Zoo/Library/Caches/pip/wheels/43/47/42/bc413c760cf9d3f7b46ab7cd6590e8c47ebfd19a7386cd4a57\n",
      "Successfully built pyspark\n",
      "Installing collected packages: py4j, pyspark\n",
      "Successfully installed py4j-0.10.9 pyspark-3.1.1\n"
     ]
    }
   ],
   "source": [
    "!pip install pyspark"
   ]
  },
  {
   "cell_type": "code",
   "execution_count": 11,
   "metadata": {},
   "outputs": [],
   "source": [
    "## pyspark를 불러옵니다.\n",
    "from pyspark import SparkContext\n",
    "\n",
    "sc = SparkContext(master=\"local\", appName=\"first app\")"
   ]
  },
  {
   "cell_type": "code",
   "execution_count": 31,
   "metadata": {
    "colab": {
     "base_uri": "https://localhost:8080/"
    },
    "id": "MU4SfROhOZjz",
    "outputId": "702f1a68-fe28-4384-cf25-b07e1e2239dc"
   },
   "outputs": [
    {
     "name": "stderr",
     "output_type": "stream",
     "text": [
      "/usr/local/lib/python3.7/dist-packages/ipykernel_launcher.py:13: RuntimeWarning: invalid value encountered in double_scalars\n",
      "  del sys.path[0]\n"
     ]
    },
    {
     "name": "stdout",
     "output_type": "stream",
     "text": [
      "88.45666885375977\n"
     ]
    }
   ],
   "source": [
    "# 너무 느린데\n",
    "# matrix로 한꺼번에 안되나\n",
    "# sqrt.sum.square 91.92306923866272\n",
    "# norm 88.45666885375977\n",
    "# 둘다 2시간 걸림\n",
    "\n",
    "\n",
    "from collections import defaultdict\n",
    "import time\n",
    "\n",
    "start = time.time()\n",
    "\n",
    "corr_sim_dict = defaultdict(dict)\n",
    "for i in movieIds:\n",
    "  for j in movieIds:\n",
    "    if i==j:\n",
    "      continue\n",
    "    corr_sim_dict[i][j] = corr_similarity_vector(get_rating(movieId=i), get_rating(movieId=j))\n",
    "\n",
    "end = time.time()\n",
    "print(end - start)"
   ]
  },
  {
   "cell_type": "code",
   "execution_count": 9,
   "metadata": {
    "id": "WyVpdKvXr26C"
   },
   "outputs": [],
   "source": [
    "def get_rating(userId=None, movieId=None):\n",
    "  if movieId==None:\n",
    "    return train.query(f'userId=={userId}').drop('userId', axis=1)\n",
    "  elif userId==None:\n",
    "    return train.query(f'movieId=={movieId}').drop('movieId', axis=1)"
   ]
  },
  {
   "cell_type": "code",
   "execution_count": 10,
   "metadata": {
    "id": "5MnTM8tvgdD4"
   },
   "outputs": [],
   "source": [
    "from sklearn.linear_model import LinearRegression\n",
    "import matplotlib.pyplot as plt\n",
    "\n",
    "def get_regression_rating(R_i, R_N):\n",
    "  X = np.concatenate((R_i['rating'].values, np.zeros(len(R_N['rating'].values))))\n",
    "  y = np.concatenate((R_N['rating'].values, np.zeros(len(R_i['rating'].values))))\n",
    "  line_fitter = LinearRegression()\n",
    "  line_fitter.fit(X.reshape(-1,1), y)\n",
    "  \n",
    "  return line_fitter.predict([[np.sum(X) / np.count_nonzero(X < 1)]])"
   ]
  },
  {
   "cell_type": "code",
   "execution_count": 11,
   "metadata": {
    "id": "3A9nzPsTbgQG"
   },
   "outputs": [],
   "source": [
    "from sklearn.metrics.pairwise import cosine_similarity\n",
    "\n",
    "def get_cos_similarity_matrix(dataframe):\n",
    "  # cos_similarity_matrix = cosine_similarity(dataframe)\n",
    "  cos_similarity_matrix = my_cosine_similarity(dataframe)\n",
    "  cos_similarity_matrix = pd.DataFrame(data=cos_similarity_matrix, index=dataframe.index, columns=dataframe.index)\n",
    "  return cos_similarity_matrix\n",
    "\n",
    "def get_corr_similarity_matrix(dataframe):\n",
    "  corr_similarity_matrix = corr_similarity(dataframe)\n",
    "  corr_similarity_matrix = pd.DataFrame(data=corr_similarity_matrix, index=dataframe.index, columns=dataframe.index)\n",
    "  return corr_similarity_matrix\n",
    "\n",
    "def get_adjcos_similarity_matrix(dataframe, R_u):\n",
    "  adjcos_similarity_matrix = adjcos_similarity(dataframe, R_u)\n",
    "  adjcos_similarity_matrix = pd.DataFrame(data=adjcos_similarity_matrix, index=dataframe.index, columns=dataframe.index)  \n",
    "  return adjcos_similarity_matrix\n"
   ]
  },
  {
   "cell_type": "markdown",
   "metadata": {
    "id": "mZfpBVRAesiu"
   },
   "source": [
    "# prediction"
   ]
  },
  {
   "cell_type": "code",
   "execution_count": null,
   "metadata": {
    "id": "rzu2Ckinqfl3"
   },
   "outputs": [],
   "source": [
    "def pred(u, i, neighborNum, similarityMatrix):\n",
    "  movieRatings = get_rating(userId=u) # movieId, rating\n",
    "  movieSimilarity = get_neighbor_items(i, neighborNum, similarityMatrix) # movieId, similarity\n",
    "\n",
    "  inner_join = pd.merge(movieSimilarity, movieRatings, how='inner', on='movieId')\n",
    "\n",
    "  s = inner_join['similarity']\n",
    "  r = inner_join['rating']\n",
    "  \n",
    "  s_r = s*r\n",
    "  abs_s = abs(s)\n",
    "  if sum(abs_s)==0:\n",
    "    return 3.\n",
    "  return sum(s_r)/sum(abs_s)"
   ]
  },
  {
   "cell_type": "code",
   "execution_count": null,
   "metadata": {
    "id": "vHROv_W6Yxir"
   },
   "outputs": [],
   "source": [
    "pred(1, 1, 0, get_adjcos_similarity_matrix(dfMovieUserTable, get_rating(userId=1)['rating']))"
   ]
  },
  {
   "cell_type": "code",
   "execution_count": null,
   "metadata": {
    "id": "lNRkCqwxMLWJ"
   },
   "outputs": [],
   "source": [
    "def pred(u, i, neighborNum, similarityMatrix):\n",
    "  movieRatings = get_rating(userId=u) # movieId, rating\n",
    "  movieSimilarity = get_neighbor_items(i, neighborNum, similarityMatrix) # movieId, similarity\n",
    "\n",
    "  inner_join = pd.merge(movieSimilarity, movieRatings, how='inner', on='movieId')\n",
    "\n",
    "  s = inner_join['similarity']\n",
    "  r = inner_join['rating']\n",
    "  \n",
    "  s_r = s*r\n",
    "  abs_s = abs(s)\n",
    "  if sum(abs_s)==0:\n",
    "    return 3.\n",
    "  return sum(s_r)/sum(abs_s)"
   ]
  },
  {
   "cell_type": "code",
   "execution_count": null,
   "metadata": {
    "id": "ZXG3TyceWNCM"
   },
   "outputs": [],
   "source": [
    "def pred_adjcos(u, i, neighborNum):\n",
    "  R_u = get_rating(userId=u) # movieId, rating\n",
    "  # movieSimilarity = get_neighbor_items(i, neighborNum, similarityMatrix) # movieId, s_i,movieId\n",
    "  R_i = get_rating(movieId=i)\n",
    "  movieSimilarity = []\n",
    "  for index, row in R_u.iterrows():\n",
    "    R_j = get_rating(movieId=row[\"movieId\"])\n",
    "    # print(f'R_i: {R_i}, R_j: {R_j}, R_u: {R_u}')\n",
    "    movieSimilarity.append({'movieId': row[\"movieId\"], 'similarity': adjcos_similarity_vector(R_i, R_j, R_u)})\n",
    "  movieSimilarity = pd.DataFrame(movieSimilarity)\n",
    "\n",
    "  t1 = movieSimilarity.loc[movieSimilarity['movieId'].isin(R_u['movieId'].values)]\n",
    "  s = t1['similarity'].values\n",
    "  t2 = R_u.loc[R_u['movieId'].isin(t1['movieId'].values)]\n",
    "  r = t2['rating'].values\n",
    "  if len(s)==0:\n",
    "    return 3.\n",
    "  s_r = s*r\n",
    "  abs_s = abs(s)\n",
    "  return sum(s_r)/sum(abs_s)"
   ]
  },
  {
   "cell_type": "code",
   "execution_count": null,
   "metadata": {
    "id": "LMtCrglCrLIJ"
   },
   "outputs": [],
   "source": [
    "def pred_reg(u, i, neighborNum, similarityMatrix):\n",
    "  movieRatings = get_rating(userId=u) # movieId, rating\n",
    "  movieSimilarity = get_neighbor_items(i, neighborNum, similarityMatrix) # movieId, s_i,movieId\n",
    "  \n",
    "  s = movieSimilarity['similarity'].values\n",
    "  if len(s)==0:\n",
    "    return 3.\n",
    "  R_i = get_rating(movieId=i)\n",
    "  r_reg = []\n",
    "  for i in range(neighborNum):\n",
    "    mostSimilarMovieId = movieSimilarity.loc[i]['movieId']\n",
    "    R_N = get_rating(movieId=mostSimilarMovieId)\n",
    "    regRating = get_regression_rating(R_i, R_N) # movieId, reg_rating\n",
    "    r_reg.append(*regRating)\n",
    "\n",
    "  s_r_reg = s*r_reg\n",
    "  abs_s = abs(s)\n",
    "  return sum(s_r_reg)/sum(abs_s)\n",
    "  # return"
   ]
  },
  {
   "cell_type": "code",
   "execution_count": null,
   "metadata": {
    "id": "z21HEuD4ZYu6"
   },
   "outputs": [],
   "source": [
    "pred_reg(1, 3, 10, 'adjusted_cosine')"
   ]
  },
  {
   "cell_type": "markdown",
   "metadata": {
    "id": "iZmDNV1WZeOF"
   },
   "source": [
    "evaluation"
   ]
  },
  {
   "cell_type": "code",
   "execution_count": null,
   "metadata": {
    "colab": {
     "base_uri": "https://localhost:8080/"
    },
    "id": "Q1qGGyoyoBTb",
    "outputId": "269e21a0-dab1-40d5-9b05-982953532db9"
   },
   "outputs": [
    {
     "name": "stderr",
     "output_type": "stream",
     "text": [
      "/usr/local/lib/python3.7/dist-packages/ipykernel_launcher.py:37: RuntimeWarning: invalid value encountered in true_divide\n"
     ]
    },
    {
     "name": "stdout",
     "output_type": "stream",
     "text": [
      "[0.77048764 1.55627745 1.33226396]\n"
     ]
    }
   ],
   "source": [
    "import math\n",
    "\n",
    "similarityMatrix = []\n",
    "similarityMatrix.append(get_cos_similarity_matrix(dfMovieUserTable))\n",
    "similarityMatrix.append(get_corr_similarity_matrix(dfMovieUserTable))\n",
    "\n",
    "mae = []\n",
    "cnt = 0\n",
    "for i in test.index:\n",
    "  userId = test._get_value(i, 'userId')\n",
    "  movieId = test._get_value(i, 'movieId')\n",
    "  rating = test._get_value(i, 'rating')\n",
    "  similarityMatrix.append(get_adjcos_similarity_matrix(dfMovieUserTable, get_rating(userId=userId)['rating']))\n",
    "  row = []\n",
    "  for matrix in similarityMatrix:\n",
    "    p = pred(userId, movieId, 0, matrix)\n",
    "    row.append(abs(p-rating))\n",
    "  similarityMatrix.pop()\n",
    "  if not math.isnan(row[0]):\n",
    "    mae.append(row)\n",
    "  cnt+=1\n",
    "  if cnt==10:\n",
    "    break\n",
    "print(np.mean(mae, axis=0))"
   ]
  },
  {
   "cell_type": "code",
   "execution_count": null,
   "metadata": {
    "id": "64c0u25gLyBE"
   },
   "outputs": [],
   "source": [
    "np.mean(list(filter(lambda v: v[0]==v[0], mae)), axis=0)"
   ]
  },
  {
   "cell_type": "code",
   "execution_count": null,
   "metadata": {
    "id": "UrzNNPMq-UC7"
   },
   "outputs": [],
   "source": [
    "mae = []\n",
    "for i in test.index:\n",
    "  userId = test._get_value(i, 'userId')\n",
    "  movieId = test._get_value(i, 'movieId')\n",
    "  rating = test._get_value(i, 'rating')\n",
    "  row = []\n",
    "  for matrix in similarityMatrix:\n",
    "    p = pred_reg(userId, movieId, 10, matrix)\n",
    "    row.append(abs(p-rating))\n",
    "  mae.append(row)\n",
    "print(np.mean(mae, axis=0))"
   ]
  },
  {
   "cell_type": "code",
   "execution_count": null,
   "metadata": {
    "id": "jKDUtP7-2Nzw"
   },
   "outputs": [],
   "source": [
    "1 in similarityMatrix[0].index"
   ]
  },
  {
   "cell_type": "code",
   "execution_count": null,
   "metadata": {
    "id": "70is9P_A6EZJ"
   },
   "outputs": [],
   "source": [
    "similarityMatrix[0][1]"
   ]
  },
  {
   "cell_type": "code",
   "execution_count": null,
   "metadata": {
    "id": "wwdJwNWv6HD0"
   },
   "outputs": [],
   "source": []
  }
 ],
 "metadata": {
  "colab": {
   "name": "Untitled3.ipynb",
   "provenance": []
  },
  "kernelspec": {
   "display_name": "Python 3",
   "language": "python",
   "name": "python3"
  },
  "language_info": {
   "codemirror_mode": {
    "name": "ipython",
    "version": 3
   },
   "file_extension": ".py",
   "mimetype": "text/x-python",
   "name": "python",
   "nbconvert_exporter": "python",
   "pygments_lexer": "ipython3",
   "version": "3.7.6"
  }
 },
 "nbformat": 4,
 "nbformat_minor": 1
}

{
 "cells": [
  {
   "cell_type": "markdown",
   "metadata": {},
   "source": [
    "# reference"
   ]
  },
  {
   "cell_type": "markdown",
   "metadata": {},
   "source": [
    "https://github.com/Hwan-I/Study/blob/master/Recommend/Item-Based%20Collaborative%20Filtering%20Recommendation%20Algorithms/main.ipynb"
   ]
  },
  {
   "cell_type": "markdown",
   "metadata": {},
   "source": [
    "# Prepare data and module"
   ]
  },
  {
   "cell_type": "code",
   "execution_count": 1,
   "metadata": {
    "id": "x2RmQpwmqLCh"
   },
   "outputs": [],
   "source": [
    "import pandas as pd\n",
    "import numpy as np\n",
    "import sklearn\n",
    "from collections import defaultdict\n",
    "from sklearn.linear_model import LinearRegression"
   ]
  },
  {
   "cell_type": "code",
   "execution_count": 2,
   "metadata": {
    "colab": {
     "base_uri": "https://localhost:8080/",
     "height": 419
    },
    "id": "-zWjcqunqQbv",
    "outputId": "aade454b-0dbf-4f21-9578-c2922c75ef38",
    "scrolled": true
   },
   "outputs": [
    {
     "data": {
      "text/html": [
       "<div>\n",
       "<style scoped>\n",
       "    .dataframe tbody tr th:only-of-type {\n",
       "        vertical-align: middle;\n",
       "    }\n",
       "\n",
       "    .dataframe tbody tr th {\n",
       "        vertical-align: top;\n",
       "    }\n",
       "\n",
       "    .dataframe thead th {\n",
       "        text-align: right;\n",
       "    }\n",
       "</style>\n",
       "<table border=\"1\" class=\"dataframe\">\n",
       "  <thead>\n",
       "    <tr style=\"text-align: right;\">\n",
       "      <th></th>\n",
       "      <th>userId</th>\n",
       "      <th>movieId</th>\n",
       "      <th>rating</th>\n",
       "    </tr>\n",
       "  </thead>\n",
       "  <tbody>\n",
       "    <tr>\n",
       "      <th>0</th>\n",
       "      <td>196</td>\n",
       "      <td>242</td>\n",
       "      <td>3</td>\n",
       "    </tr>\n",
       "    <tr>\n",
       "      <th>1</th>\n",
       "      <td>186</td>\n",
       "      <td>302</td>\n",
       "      <td>3</td>\n",
       "    </tr>\n",
       "    <tr>\n",
       "      <th>2</th>\n",
       "      <td>22</td>\n",
       "      <td>377</td>\n",
       "      <td>1</td>\n",
       "    </tr>\n",
       "    <tr>\n",
       "      <th>3</th>\n",
       "      <td>244</td>\n",
       "      <td>51</td>\n",
       "      <td>2</td>\n",
       "    </tr>\n",
       "    <tr>\n",
       "      <th>4</th>\n",
       "      <td>166</td>\n",
       "      <td>346</td>\n",
       "      <td>1</td>\n",
       "    </tr>\n",
       "    <tr>\n",
       "      <th>...</th>\n",
       "      <td>...</td>\n",
       "      <td>...</td>\n",
       "      <td>...</td>\n",
       "    </tr>\n",
       "    <tr>\n",
       "      <th>99995</th>\n",
       "      <td>880</td>\n",
       "      <td>476</td>\n",
       "      <td>3</td>\n",
       "    </tr>\n",
       "    <tr>\n",
       "      <th>99996</th>\n",
       "      <td>716</td>\n",
       "      <td>204</td>\n",
       "      <td>5</td>\n",
       "    </tr>\n",
       "    <tr>\n",
       "      <th>99997</th>\n",
       "      <td>276</td>\n",
       "      <td>1090</td>\n",
       "      <td>1</td>\n",
       "    </tr>\n",
       "    <tr>\n",
       "      <th>99998</th>\n",
       "      <td>13</td>\n",
       "      <td>225</td>\n",
       "      <td>2</td>\n",
       "    </tr>\n",
       "    <tr>\n",
       "      <th>99999</th>\n",
       "      <td>12</td>\n",
       "      <td>203</td>\n",
       "      <td>3</td>\n",
       "    </tr>\n",
       "  </tbody>\n",
       "</table>\n",
       "<p>100000 rows × 3 columns</p>\n",
       "</div>"
      ],
      "text/plain": [
       "       userId  movieId  rating\n",
       "0         196      242       3\n",
       "1         186      302       3\n",
       "2          22      377       1\n",
       "3         244       51       2\n",
       "4         166      346       1\n",
       "...       ...      ...     ...\n",
       "99995     880      476       3\n",
       "99996     716      204       5\n",
       "99997     276     1090       1\n",
       "99998      13      225       2\n",
       "99999      12      203       3\n",
       "\n",
       "[100000 rows x 3 columns]"
      ]
     },
     "execution_count": 2,
     "metadata": {},
     "output_type": "execute_result"
    }
   ],
   "source": [
    "ratings = pd.read_csv('./movie_data/u.data', sep='\\t', header=None, names=['userId','movieId','rating','timestamp'])\n",
    "ratings = ratings.drop('timestamp', axis=1)\n",
    "ratings"
   ]
  },
  {
   "cell_type": "code",
   "execution_count": 3,
   "metadata": {
    "id": "XUc-T_A4w452"
   },
   "outputs": [],
   "source": [
    "from sklearn.model_selection import train_test_split\n",
    "train, test = train_test_split(ratings, test_size=0.2, random_state=1932)"
   ]
  },
  {
   "cell_type": "code",
   "execution_count": 4,
   "metadata": {
    "id": "FuqXCDHzMy3-"
   },
   "outputs": [
    {
     "name": "stdout",
     "output_type": "stream",
     "text": [
      "movie 총 개수: 1652, user 총 수: 943\n"
     ]
    }
   ],
   "source": [
    "movieIds = np.unique(train['movieId'])\n",
    "userIds = np.unique(train['userId'])\n",
    "print(f'movie 총 개수: {len(movieIds)}, user 총 수: {len(userIds)}')"
   ]
  },
  {
   "cell_type": "code",
   "execution_count": 5,
   "metadata": {},
   "outputs": [],
   "source": [
    "movieDict = defaultdict(dict) # [movieId][userId] = rating\n",
    "userDict = defaultdict(dict) # [userId][movieId] = rating\n",
    "userRatingMeanDict = defaultdict(dict) # [userId] = mean(rating)\n",
    "movieRatingMeanDict = defaultdict(dict) # [movieId] = mean(rating)\n",
    "coRatedMovieDict = defaultdict(dict) # [movieId1][movieId2] = [[movieId1r1, movieId1r2, ...], [movieId2r1, movieId2r2, ...]]\n",
    "for i in train.index:\n",
    "  userId = train._get_value(i, 'userId')\n",
    "  movieId = train._get_value(i, 'movieId')\n",
    "  rating = train._get_value(i, 'rating')\n",
    "  movieDict[movieId][userId] = rating\n",
    "  userDict[userId][movieId] = rating\n",
    "\n",
    "for key in userDict.keys():\n",
    "  userRatingMeanDict[key] = sum(userDict[key].values())/len(userDict[key].values())\n",
    "\n",
    "for key in movieDict.keys():\n",
    "  movieRatingMeanDict[key] = sum(movieDict[key].values())/len(movieDict[key].values())\n",
    "\n",
    "for item1 in movieDict.keys():\n",
    "  for item2 in movieDict.keys():\n",
    "    if item1 == item2:\n",
    "      continue\n",
    "    d1 = movieDict[item1]\n",
    "    d2 = movieDict[item2]\n",
    "    coRatedMovieDict[item1][item2] = [[x, d1[x], d2[x]] for x in d1 if x in d2]\n"
   ]
  },
  {
   "cell_type": "markdown",
   "metadata": {
    "id": "u8k668kGz2Mg"
   },
   "source": [
    "# cosine similarity"
   ]
  },
  {
   "cell_type": "code",
   "execution_count": null,
   "metadata": {},
   "outputs": [],
   "source": [
    "def get_correlation_similarity(coRatedRi, coRatedRj):\n",
    "  I = np.array(coRatedRi)\n",
    "  J = np.array(coRatedRj)\n",
    "  I_norm = np.sqrt(np.sum(np.square(I)))\n",
    "  J_norm = np.sqrt(np.sum(np.square(J)))\n",
    "  K = np.dot(I,J) / (I_norm * J_norm)\n",
    "  return 0 if np.isnan(K) else K"
   ]
  },
  {
   "cell_type": "code",
   "execution_count": 6,
   "metadata": {},
   "outputs": [],
   "source": [
    "cosineSimilarityDict = defaultdict(dict) # [item1][item2] = sim\n",
    "for item1 in movieDict.keys():\n",
    "  for item2 in movieDict.keys():\n",
    "    if item1 >= item2:\n",
    "      continue\n",
    "    numer = 0.\n",
    "    denom1 = 0.\n",
    "    denom2 = 0.\n",
    "    for [userId, rating1, rating2] in coRatedMovieDict[item1][item2]:\n",
    "      numer += rating1*rating2\n",
    "      denom1 += rating1**2\n",
    "      denom2 += rating2**2\n",
    "    if numer*denom1*denom2==0:\n",
    "      continue\n",
    "    cosineSimilarityDict[item1][item2] = numer / ((denom1**0.5) * (denom2**0.5))\n",
    "    cosineSimilarityDict[item2][item1] = cosineSimilarityDict[item1][item2]"
   ]
  },
  {
   "cell_type": "code",
   "execution_count": null,
   "metadata": {
    "scrolled": false
   },
   "outputs": [],
   "source": [
    "cosineSimilarityDict[1][2]"
   ]
  },
  {
   "cell_type": "markdown",
   "metadata": {
    "id": "pCh2Dqbyegxy"
   },
   "source": [
    "# correlation similarity"
   ]
  },
  {
   "cell_type": "code",
   "execution_count": null,
   "metadata": {},
   "outputs": [],
   "source": [
    "def get_correlation_similarity(coRatedRi, coRatedRj):\n",
    "  R_i = np.array(coRatedRi)\n",
    "  R_j = np.array(coRatedRj)\n",
    "  I = R_i-np.mean(R_i)\n",
    "  J = R_j-np.mean(R_j)\n",
    "  I_norm = np.sqrt(np.sum(np.square(I)))\n",
    "  J_norm = np.sqrt(np.sum(np.square(J)))\n",
    "  K = np.dot(I,J) / (I_norm * J_norm)\n",
    "  return 0 if np.isnan(K) else K"
   ]
  },
  {
   "cell_type": "code",
   "execution_count": 7,
   "metadata": {},
   "outputs": [],
   "source": [
    "correlationSimilarityDict = defaultdict(dict)\n",
    "for item1 in movieDict.keys():\n",
    "  for item2 in movieDict.keys():\n",
    "    if item1 >= item2:\n",
    "      continue\n",
    "    numer = 0.\n",
    "    denom1 = 0.\n",
    "    denom2 = 0.\n",
    "    for [userId, rating1, rating2] in coRatedMovieDict[item1][item2]:\n",
    "      I = rating1-movieRatingMeanDict[item1]\n",
    "      J = rating2-movieRatingMeanDict[item2]\n",
    "      numer += I*J\n",
    "      denom1 += I**2\n",
    "      denom2 += J**2\n",
    "    if numer*denom1*denom2==0:\n",
    "      correlationSimilarityDict[item1][item2] = 0.\n",
    "    else:\n",
    "      correlationSimilarityDict[item1][item2] = numer / ((denom1**0.5) * (denom2**0.5))\n",
    "    correlationSimilarityDict[item2][item1] = correlationSimilarityDict[item1][item2]"
   ]
  },
  {
   "cell_type": "code",
   "execution_count": null,
   "metadata": {},
   "outputs": [],
   "source": [
    "correlationSimilarityDict[1][2]"
   ]
  },
  {
   "cell_type": "markdown",
   "metadata": {
    "id": "By1KAJoNelRs"
   },
   "source": [
    "# adjusted cosine similarity"
   ]
  },
  {
   "cell_type": "code",
   "execution_count": null,
   "metadata": {},
   "outputs": [],
   "source": [
    "def get_adjusted_cosine_similarity(coRatedRi, coRatedRj, RuMean):\n",
    "  R_i = np.array(coRatedRi)\n",
    "  R_j = np.array(coRatedRj)\n",
    "  I = R_i-RuMean\n",
    "  J = R_j-RuMean\n",
    "  I_norm = np.sqrt(np.sum(np.square(I)))\n",
    "  J_norm = np.sqrt(np.sum(np.square(J)))\n",
    "  K = np.dot(I,J) / (I_norm * J_norm)\n",
    "  return K"
   ]
  },
  {
   "cell_type": "code",
   "execution_count": 8,
   "metadata": {},
   "outputs": [],
   "source": [
    "adjustedCosineSimilarityDict = defaultdict(dict)\n",
    "for item1 in movieDict.keys():\n",
    "  for item2 in movieDict.keys():\n",
    "    if item1 >= item2:\n",
    "      continue\n",
    "    numer = 0.\n",
    "    denom1 = 0.\n",
    "    denom2 = 0.\n",
    "    for [userId, rating1, rating2] in coRatedMovieDict[item1][item2]:\n",
    "      I = rating1-userRatingMeanDict[userId]\n",
    "      J = rating2-userRatingMeanDict[userId]\n",
    "      numer += I*J\n",
    "      denom1 += I**2\n",
    "      denom2 += J**2\n",
    "    if numer*denom1*denom2==0:\n",
    "      adjustedCosineSimilarityDict[item1][item2] = 0.\n",
    "    else:\n",
    "      adjustedCosineSimilarityDict[item1][item2] = numer / ((denom1**0.5) * (denom2**0.5))\n",
    "    adjustedCosineSimilarityDict[item2][item1] = adjustedCosineSimilarityDict[item1][item2]"
   ]
  },
  {
   "cell_type": "code",
   "execution_count": null,
   "metadata": {
    "scrolled": true
   },
   "outputs": [],
   "source": [
    "adjustedCosineSimilarityDict[1][2]"
   ]
  },
  {
   "cell_type": "markdown",
   "metadata": {
    "id": "8lc7IeRHerRP"
   },
   "source": [
    "# utils"
   ]
  },
  {
   "cell_type": "code",
   "execution_count": 9,
   "metadata": {
    "scrolled": true
   },
   "outputs": [],
   "source": [
    "similarityDicts = [cosineSimilarityDict, correlationSimilarityDict, adjustedCosineSimilarityDict]"
   ]
  },
  {
   "cell_type": "code",
   "execution_count": 10,
   "metadata": {
    "id": "DWkCJep_NIWD"
   },
   "outputs": [],
   "source": [
    "def get_k_neighbor_dict(similarityDict, K):\n",
    "  kSimilarityDict = defaultdict(dict)\n",
    "  for i in movieIds:\n",
    "    temp = sorted(similarityDict[i].items(), key=(lambda x:x[1]), reverse=True)\n",
    "    if K != 0:\n",
    "      temp = temp[:K]\n",
    "    dict_ = {}\n",
    "    for j in range(len(temp)):\n",
    "        dict_[temp[j][0]] = temp[j][1]\n",
    "    kSimilarityDict[i] = dict_\n",
    "  return kSimilarityDict"
   ]
  },
  {
   "cell_type": "code",
   "execution_count": 11,
   "metadata": {},
   "outputs": [],
   "source": [
    "kSimilarityDicts = [get_k_neighbor_dict(similarityDict, 0) for similarityDict in similarityDicts]"
   ]
  },
  {
   "cell_type": "code",
   "execution_count": 79,
   "metadata": {
    "scrolled": true
   },
   "outputs": [],
   "source": [
    "# 각 item i의 가장 유사한 item N를 알아낸다\n",
    "# 둘의 coRatedMovieDict[i][N]을 구한다\n",
    "# regression을 돌려준다\n",
    "from sklearn.linear_model import LinearRegression\n",
    "\n",
    "regRatingDicts = {0: defaultdict(dict), 1: defaultdict(dict), 2: defaultdict(dict)}\n",
    "for j in range(3):\n",
    "  ksd = kSimilarityDicts[j]\n",
    "  regRatingDict = regRatingDicts[j]\n",
    "  for i in movieIds:\n",
    "    similarMovieId = list(ksd[i].keys())[0]\n",
    "    if not coRatedMovieDict[i][similarMovieId]:\n",
    "      continue\n",
    "    users, Ri, Rn = np.array(coRatedMovieDict[i][similarMovieId]).T\n",
    "    lineFitter = LinearRegression()\n",
    "    lineFitter.fit(Ri.reshape(-1, 1), Rn.reshape(-1, 1))\n",
    "    \n",
    "#     regR = lineFitter.predict([[1.],[1.5],[2.],[2.5],[3.],[3.5],[4.],[4.5],[5.]])\n",
    "    \n",
    "#     regRatingDict[i] = dict(list(zip(['1.0', '1.5', '2.0', '2.5', '3.0', '3.5', '4.0', '4.5', '5.0'], np.array(regR).squeeze())))\n",
    "    if userRatingMeanDict[i] == {}:\n",
    "      continue\n",
    "    regRatingDict[i] = np.array(lineFitter.predict([[userRatingMeanDict[i]]])).squeeze()\n"
   ]
  },
  {
   "cell_type": "code",
   "execution_count": 106,
   "metadata": {},
   "outputs": [
    {
     "data": {
      "text/plain": [
       "array(3.83333333)"
      ]
     },
     "execution_count": 106,
     "metadata": {},
     "output_type": "execute_result"
    }
   ],
   "source": [
    "regRatingDicts[0][602]"
   ]
  },
  {
   "cell_type": "markdown",
   "metadata": {
    "id": "mZfpBVRAesiu"
   },
   "source": [
    "# prediction"
   ]
  },
  {
   "cell_type": "code",
   "execution_count": 68,
   "metadata": {
    "id": "rzu2Ckinqfl3"
   },
   "outputs": [],
   "source": [
    "def pred(u, i, kSimilarityDict):\n",
    "  movieRatings = userDict[u] # [movieId] = rating\n",
    "  movieSimilarity = kSimilarityDict[i] # [movieId] = similarity\n",
    "\n",
    "  plus_mean = 0.\n",
    "  if u in userRatingMeanDict:\n",
    "    plus_mean = userRatingMeanDict[u]\n",
    "  else:\n",
    "    plus_mean = sum(userRatingMeanDict.items())/len(userRatingMeanDict.items())\n",
    "  ratedSimilarMovie = [[movieRatings[x], movieSimilarity[x]] for x in movieRatings if x in movieSimilarity]\n",
    "  \n",
    "  similarityMulRating = list(map(lambda x: (x[0]-plus_mean)*x[1], ratedSimilarMovie))\n",
    "  absoluteSimilarity = list(map(lambda x: abs(x[1]), ratedSimilarMovie))\n",
    "  \n",
    "  if sum(absoluteSimilarity)==0:\n",
    "    return plus_mean\n",
    "  p = sum(similarityMulRating)/sum(absoluteSimilarity)+plus_mean\n",
    "\n",
    "  return min(max(p, 1.), 5.)"
   ]
  },
  {
   "cell_type": "code",
   "execution_count": null,
   "metadata": {
    "id": "vHROv_W6Yxir"
   },
   "outputs": [],
   "source": [
    "pred(1, 1, kSimilarityDicts[1])"
   ]
  },
  {
   "cell_type": "code",
   "execution_count": 117,
   "metadata": {
    "id": "LMtCrglCrLIJ"
   },
   "outputs": [],
   "source": [
    "def pred_reg(u, i, kSimilarityDict, regRatingDict):  \n",
    "  movieRatings = userDict[u] # [movieId] = rating\n",
    "  movieSimilarity = kSimilarityDict[i] # [movieId] = similarity\n",
    "  \n",
    "  plus_mean = 0.\n",
    "  if u in userRatingMeanDict:\n",
    "    plus_mean = userRatingMeanDict[u]\n",
    "  else:\n",
    "    plus_mean = sum(userRatingMeanDict.items())/len(userRatingMeanDict.items())\n",
    "    \n",
    "  if regRatingDict[i]=={}:\n",
    "    return plus_mean\n",
    "  ratedSimilarMovie = [[regRatingDict[i], movieSimilarity[x]] for x in movieRatings if x in movieSimilarity]\n",
    "  \n",
    "  similarityMulRating = list(map(lambda x: (x[0]-plus_mean)*x[1], ratedSimilarMovie))\n",
    "  absoluteSimilarity = list(map(lambda x: abs(x[1]), ratedSimilarMovie))\n",
    "  \n",
    "  if sum(absoluteSimilarity)==0:\n",
    "    return plus_mean\n",
    "  p = sum(similarityMulRating)/sum(absoluteSimilarity)+plus_mean\n",
    "\n",
    "  return min(max(p, 1.), 5.)"
   ]
  },
  {
   "cell_type": "code",
   "execution_count": null,
   "metadata": {
    "id": "z21HEuD4ZYu6"
   },
   "outputs": [],
   "source": [
    "pred_reg(1, 3, 10, 'adjusted_cosine')"
   ]
  },
  {
   "cell_type": "markdown",
   "metadata": {
    "id": "iZmDNV1WZeOF"
   },
   "source": [
    "# evaluation"
   ]
  },
  {
   "cell_type": "code",
   "execution_count": 69,
   "metadata": {
    "colab": {
     "base_uri": "https://localhost:8080/"
    },
    "id": "Q1qGGyoyoBTb",
    "outputId": "269e21a0-dab1-40d5-9b05-982953532db9"
   },
   "outputs": [],
   "source": [
    "mae = []\n",
    "for i in test.index:\n",
    "  userId = test._get_value(i, 'userId')\n",
    "  movieId = test._get_value(i, 'movieId')\n",
    "  rating = test._get_value(i, 'rating')\n",
    "  row = []\n",
    "  for dic in kSimilarityDicts:\n",
    "    p = pred(userId, movieId, dic)\n",
    "    row.append(abs(p-rating))\n",
    "  mae.append(row)"
   ]
  },
  {
   "cell_type": "code",
   "execution_count": 70,
   "metadata": {},
   "outputs": [
    {
     "data": {
      "text/plain": [
       "array([0.83680257, 0.81012093, 0.75271649])"
      ]
     },
     "execution_count": 70,
     "metadata": {},
     "output_type": "execute_result"
    }
   ],
   "source": [
    "np.mean(mae, axis=0)"
   ]
  },
  {
   "cell_type": "code",
   "execution_count": 118,
   "metadata": {
    "id": "UrzNNPMq-UC7",
    "scrolled": true
   },
   "outputs": [],
   "source": [
    "mae_reg = []\n",
    "for i in test.index:\n",
    "  userId = test._get_value(i, 'userId')\n",
    "  movieId = test._get_value(i, 'movieId')\n",
    "  rating = test._get_value(i, 'rating')\n",
    "  row = []\n",
    "  for j in range(3):\n",
    "    p = pred_reg(userId, movieId, kSimilarityDicts[j], regRatingDicts[j])\n",
    "    row.append(abs(p-rating))\n",
    "  mae_reg.append(row)"
   ]
  },
  {
   "cell_type": "code",
   "execution_count": 119,
   "metadata": {},
   "outputs": [
    {
     "data": {
      "text/plain": [
       "array([1.13515243, 1.16213039, 0.87169094])"
      ]
     },
     "execution_count": 119,
     "metadata": {},
     "output_type": "execute_result"
    }
   ],
   "source": [
    "np.mean(mae_reg, axis=0)"
   ]
  },
  {
   "cell_type": "markdown",
   "metadata": {
    "id": "wwdJwNWv6HD0"
   },
   "source": [
    "# visualization"
   ]
  },
  {
   "cell_type": "code",
   "execution_count": 84,
   "metadata": {},
   "outputs": [
    {
     "data": {
      "image/png": "[encoded data removed]",
      "text/plain": [
       "<Figure size 360x360 with 1 Axes>"
      ]
     },
     "metadata": {
      "needs_background": "light"
     },
     "output_type": "display_data"
    }
   ],
   "source": [
    "import matplotlib.pyplot as plt\n",
    "plt.figure(figsize=(5,5))\n",
    "plt.bar(['cosine','corr','adj_cosine'],np.mean(mae, axis=0),  width=0.3)\n",
    "plt.show()"
   ]
  },
  {
   "cell_type": "code",
   "execution_count": null,
   "metadata": {},
   "outputs": [],
   "source": [
    "import matplotlib.pyplot as plt\n",
    "plt.figure(figsize=(5,5))\n",
    "plt.bar(['cosine','corr','adj_cosine'], np.mean(mae_reg, axis=0),  width=0.3)\n",
    "plt.show()"
   ]
  },
  {
   "cell_type": "markdown",
   "metadata": {},
   "source": [
    "# testing"
   ]
  },
  {
   "cell_type": "code",
   "execution_count": 91,
   "metadata": {},
   "outputs": [],
   "source": [
    "class itemBasedCollaborativeFiltering:\n",
    "  def __init__(self, df, testSize, K):\n",
    "    self.train, self.test = train_test_split(df, test_size=testSize, random_state=1932)\n",
    "    self.movieIds = movieIds = np.unique(self.train['movieId'])\n",
    "    self.userIds = np.unique(self.train['userId'])\n",
    "    self.movieDict, self.userDict = self.get_item_dict()\n",
    "    self.userRatingMeanDict = self.get_user_rating_mean_dict()\n",
    "    self.movieRatingMeanDict = self.get_movie_rating_mean_dict()\n",
    "    self.coRatedMovieDict = self.get_co_rated_movie_dict()\n",
    "    \n",
    "    self.adjustedCosineSimilarityDict = self.get_adjusted_cosine_similarity_dict()\n",
    "    \n",
    "    self.kSimilarityDict = self.get_k_neighbor_dict(self.adjustedCosineSimilarityDict, K)\n",
    "\n",
    "  def get_item_dict(self):\n",
    "    movieDict = defaultdict(dict) # [movieId][userId] = rating\n",
    "    userDict = defaultdict(dict) # [userId][movieId] = rating\n",
    "    for i in self.train.index:\n",
    "      userId = self.train._get_value(i, 'userId')\n",
    "      movieId = self.train._get_value(i, 'movieId')\n",
    "      rating = self.train._get_value(i, 'rating')\n",
    "      movieDict[movieId][userId] = rating\n",
    "      userDict[userId][movieId] = rating\n",
    "    return movieDict, userDict\n",
    "  \n",
    "  def get_user_rating_mean_dict(self):\n",
    "    userRatingMeanDict = defaultdict(dict) # [userId] = mean(rating)\n",
    "    for key in self.userDict.keys():\n",
    "      userRatingMeanDict[key] = sum(self.userDict[key].values())/len(self.userDict[key].values())\n",
    "    return userRatingMeanDict\n",
    "\n",
    "  def get_movie_rating_mean_dict(self):\n",
    "    movieRatingMeanDict = defaultdict(dict) # [movieId] = mean(rating)\n",
    "    for key in self.movieDict.keys():\n",
    "      movieRatingMeanDict[key] = sum(self.movieDict[key].values())/len(self.movieDict[key].values())\n",
    "    return movieRatingMeanDict\n",
    "\n",
    "  def get_co_rated_movie_dict(self):\n",
    "    coRatedMovieDict = defaultdict(dict) # [movieId1][movieId2] = [[movieId1r1, movieId1r2, ...], [movieId2r1, movieId2r2, ...]]\n",
    "    for item1 in self.movieDict.keys():\n",
    "      for item2 in self.movieDict.keys():\n",
    "        if item1 == item2:\n",
    "          continue\n",
    "        d1 = movieDict[item1]\n",
    "        d2 = movieDict[item2]\n",
    "        coRatedMovieDict[item1][item2] = [[x, d1[x], d2[x]] for x in d1 if x in d2]\n",
    "    return coRatedMovieDict\n",
    "  \n",
    "  def get_adjusted_cosine_similarity_dict(self):\n",
    "    adjustedCosineSimilarityDict = defaultdict(dict)\n",
    "    for item1 in self.movieDict.keys():\n",
    "      for item2 in self.movieDict.keys():\n",
    "        if item1 >= item2:\n",
    "          continue\n",
    "        numer = 0.\n",
    "        denom1 = 0.\n",
    "        denom2 = 0.\n",
    "        for [userId, rating1, rating2] in self.coRatedMovieDict[item1][item2]:\n",
    "          userRatingMean = 3.\n",
    "          if userId in self.userRatingMeanDict:\n",
    "            userRatingMean = self.userRatingMeanDict[userId]\n",
    "          I = rating1-userRatingMean\n",
    "          J = rating2-userRatingMean\n",
    "          numer += I*J\n",
    "          denom1 += I**2\n",
    "          denom2 += J**2\n",
    "        if numer*denom1*denom2==0:\n",
    "          adjustedCosineSimilarityDict[item1][item2] = 0.\n",
    "        else:\n",
    "          adjustedCosineSimilarityDict[item1][item2] = numer / ((denom1**0.5) * (denom2**0.5))\n",
    "        adjustedCosineSimilarityDict[item2][item1] = adjustedCosineSimilarityDict[item1][item2]\n",
    "    return adjustedCosineSimilarityDict\n",
    "  \n",
    "  def get_k_neighbor_dict(self, similarityDict, K):\n",
    "    kSimilarityDict = defaultdict(dict)\n",
    "    for i in self.movieIds:\n",
    "      temp = sorted(similarityDict[i].items(), key=(lambda x:x[1]), reverse=True)\n",
    "      if K != 0:\n",
    "        temp = temp[:K]\n",
    "      dict_ = {}\n",
    "      for j in range(len(temp)):\n",
    "          dict_[temp[j][0]] = temp[j][1]\n",
    "      kSimilarityDict[i] = dict_\n",
    "    return kSimilarityDict\n",
    "  \n",
    "  def predict(self, u, i, kSimilarityDict):\n",
    "    movieRatings = self.userDict[u] # [movieId] = rating\n",
    "    movieSimilarity = kSimilarityDict[i] # [movieId] = similarity\n",
    "\n",
    "    plus_mean = 3.\n",
    "    if u in self.userRatingMeanDict:\n",
    "      plus_mean = self.userRatingMeanDict[u]\n",
    "#     else:\n",
    "#       plus_mean = sum(self.userRatingMeanDict.items())/len(self.userRatingMeanDict.items())\n",
    "    ratedSimilarMovie = [[movieRatings[x], movieSimilarity[x]] for x in movieRatings if x in movieSimilarity]\n",
    "\n",
    "    similarityMulRating = list(map(lambda x: (x[0]-plus_mean)*x[1], ratedSimilarMovie))\n",
    "    absoluteSimilarity = list(map(lambda x: abs(x[1]), ratedSimilarMovie))\n",
    "\n",
    "    if sum(absoluteSimilarity)==0:\n",
    "      return plus_mean\n",
    "    p = sum(similarityMulRating)/sum(absoluteSimilarity)+plus_mean\n",
    "\n",
    "    return min(max(p, 1.), 5.)\n",
    "  \n",
    "  def getMAE(self):\n",
    "    mae = []\n",
    "    for i in test.index:\n",
    "      userId = test._get_value(i, 'userId')\n",
    "      movieId = test._get_value(i, 'movieId')\n",
    "      rating = test._get_value(i, 'rating')\n",
    "      p = self.predict(userId, movieId, self.kSimilarityDict)\n",
    "      mae.append(abs(p-rating))\n",
    "    return np.mean(mae, axis=0)"
   ]
  },
  {
   "cell_type": "code",
   "execution_count": 92,
   "metadata": {},
   "outputs": [
    {
     "name": "stdout",
     "output_type": "stream",
     "text": [
      "test ratio: 0.2, done\n",
      "test ratio: 0.3, done\n",
      "test ratio: 0.4, done\n",
      "test ratio: 0.5, done\n",
      "test ratio: 0.6, done\n",
      "test ratio: 0.7, done\n",
      "test ratio: 0.8, done\n",
      "test ratio: 0.9, done\n"
     ]
    }
   ],
   "source": [
    "MAEs = []\n",
    "for ts in [0.2, 0.3, 0.4, 0.5, 0.6, 0.7, 0.8, 0.9]:\n",
    "  model = itemBasedCollaborativeFiltering(ratings, ts, 0)\n",
    "  MAEs.append(model.getMAE())\n",
    "  print(f'test ratio: {ts}, done')"
   ]
  },
  {
   "cell_type": "code",
   "execution_count": 93,
   "metadata": {
    "scrolled": true
   },
   "outputs": [
    {
     "data": {
      "text/plain": [
       "[0.7527164880100984,\n",
       " 0.7536551453348845,\n",
       " 0.7554764650943493,\n",
       " 0.7588777312687206,\n",
       " 0.7617624009572391,\n",
       " 0.7677147945089222,\n",
       " 0.7829934303172457,\n",
       " 0.8256890983850684]"
      ]
     },
     "execution_count": 93,
     "metadata": {},
     "output_type": "execute_result"
    }
   ],
   "source": [
    "MAEs"
   ]
  },
  {
   "cell_type": "code",
   "execution_count": 100,
   "metadata": {
    "scrolled": true
   },
   "outputs": [
    {
     "data": {
      "image/png": "[encoded data removed]",
      "text/plain": [
       "<Figure size 360x360 with 1 Axes>"
      ]
     },
     "metadata": {
      "needs_background": "light"
     },
     "output_type": "display_data"
    }
   ],
   "source": [
    "import matplotlib.pyplot as plt\n",
    "plt.figure(figsize=(5,5))\n",
    "plt.plot([0.2, 0.3, 0.4, 0.5, 0.6, 0.7, 0.8, 0.9][::-1],MAEs[::-1])\n",
    "plt.show()"
   ]
  },
  {
   "cell_type": "code",
   "execution_count": null,
   "metadata": {
    "scrolled": true
   },
   "outputs": [],
   "source": [
    "MAEs_neighbor = []\n",
    "for neighborNum in [10, 20, 30, 40, 50, 60, 70, 80, 90, 100, 125, 150, 175, 200]:\n",
    "  model = itemBasedCollaborativeFiltering(ratings, 0.2, neighborNum)\n",
    "  MAEs_neighbor.append(model.getMAE())\n",
    "  print(f'neighbor num: {neighborNum}, done')"
   ]
  },
  {
   "cell_type": "code",
   "execution_count": null,
   "metadata": {},
   "outputs": [],
   "source": [
    "MAEs_neighbor"
   ]
  },
  {
   "cell_type": "code",
   "execution_count": null,
   "metadata": {},
   "outputs": [],
   "source": []
  }
 ],
 "metadata": {
  "colab": {
   "name": "Untitled3.ipynb",
   "provenance": []
  },
  "kernelspec": {
   "display_name": "Python 3",
   "language": "python",
   "name": "python3"
  },
  "language_info": {
   "codemirror_mode": {
    "name": "ipython",
    "version": 3
   },
   "file_extension": ".py",
   "mimetype": "text/x-python",
   "name": "python",
   "nbconvert_exporter": "python",
   "pygments_lexer": "ipython3",
   "version": "3.7.6"
  }
 },
 "nbformat": 4,
 "nbformat_minor": 1
}
